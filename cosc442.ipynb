{
 "cells": [
  {
   "cell_type": "markdown",
   "id": "32c78dfc",
   "metadata": {
    "id": "N1YGyMV8DoQD",
    "papermill": {
     "duration": 0.006571,
     "end_time": "2025-05-04T20:54:20.355981",
     "exception": false,
     "start_time": "2025-05-04T20:54:20.349410",
     "status": "completed"
    },
    "tags": []
   },
   "source": [
    "# **A Comparative Study of Sentiment Analysis Techniques in Artificial Intelligence**\n",
    "\n",
    "**Done by:**\n",
    "\n",
    "- Amna Bubshait (A00723)\n",
    "- Athbi Salmeen (A01195)\n",
    "- Zahra Alshehabi (A00755)\n",
    "\n",
    "**Professor:** Dr. Bara Alalawsh\n",
    "\n",
    "**Dataset:** [Click here](https://www.kaggle.com/datasets/jp797498e/twitter-entity-sentiment-analysis)\n",
    "\n",
    "*Artifical Intelligence (COSC 442) Final Project, American University of Bahrain (AUBH), Spring 2025.*"
   ]
  },
  {
   "cell_type": "markdown",
   "id": "0925e7b6",
   "metadata": {
    "id": "G__I_w1qs13i",
    "papermill": {
     "duration": 0.006105,
     "end_time": "2025-05-04T20:54:20.367665",
     "exception": false,
     "start_time": "2025-05-04T20:54:20.361560",
     "status": "completed"
    },
    "tags": []
   },
   "source": [
    "# **1. Load & Explore the Dataset**"
   ]
  },
  {
   "cell_type": "code",
   "execution_count": 1,
   "id": "16f95c5b",
   "metadata": {
    "execution": {
     "iopub.execute_input": "2025-05-04T20:54:20.379417Z",
     "iopub.status.busy": "2025-05-04T20:54:20.379143Z",
     "iopub.status.idle": "2025-05-04T20:54:24.795326Z",
     "shell.execute_reply": "2025-05-04T20:54:24.794270Z"
    },
    "id": "je9Jx4cJM-X7",
    "papermill": {
     "duration": 4.424752,
     "end_time": "2025-05-04T20:54:24.797634",
     "exception": false,
     "start_time": "2025-05-04T20:54:20.372882",
     "status": "completed"
    },
    "tags": []
   },
   "outputs": [
    {
     "name": "stdout",
     "output_type": "stream",
     "text": [
      "Requirement already satisfied: deap in /usr/local/lib/python3.11/dist-packages (1.4.2)\r\n",
      "Requirement already satisfied: numpy in /usr/local/lib/python3.11/dist-packages (from deap) (1.26.4)\r\n",
      "Requirement already satisfied: mkl_fft in /usr/local/lib/python3.11/dist-packages (from numpy->deap) (1.3.8)\r\n",
      "Requirement already satisfied: mkl_random in /usr/local/lib/python3.11/dist-packages (from numpy->deap) (1.2.4)\r\n",
      "Requirement already satisfied: mkl_umath in /usr/local/lib/python3.11/dist-packages (from numpy->deap) (0.1.1)\r\n",
      "Requirement already satisfied: mkl in /usr/local/lib/python3.11/dist-packages (from numpy->deap) (2025.1.0)\r\n",
      "Requirement already satisfied: tbb4py in /usr/local/lib/python3.11/dist-packages (from numpy->deap) (2022.1.0)\r\n",
      "Requirement already satisfied: mkl-service in /usr/local/lib/python3.11/dist-packages (from numpy->deap) (2.4.1)\r\n",
      "Requirement already satisfied: intel-openmp<2026,>=2024 in /usr/local/lib/python3.11/dist-packages (from mkl->numpy->deap) (2024.2.0)\r\n",
      "Requirement already satisfied: tbb==2022.* in /usr/local/lib/python3.11/dist-packages (from mkl->numpy->deap) (2022.1.0)\r\n",
      "Requirement already satisfied: tcmlib==1.* in /usr/local/lib/python3.11/dist-packages (from tbb==2022.*->mkl->numpy->deap) (1.2.0)\r\n",
      "Requirement already satisfied: intel-cmplr-lib-rt in /usr/local/lib/python3.11/dist-packages (from mkl_umath->numpy->deap) (2024.2.0)\r\n",
      "Requirement already satisfied: intel-cmplr-lib-ur==2024.2.0 in /usr/local/lib/python3.11/dist-packages (from intel-openmp<2026,>=2024->mkl->numpy->deap) (2024.2.0)\r\n"
     ]
    }
   ],
   "source": [
    "!pip install deap"
   ]
  },
  {
   "cell_type": "code",
   "execution_count": 2,
   "id": "7a0ed46c",
   "metadata": {
    "execution": {
     "iopub.execute_input": "2025-05-04T20:54:24.811534Z",
     "iopub.status.busy": "2025-05-04T20:54:24.811048Z",
     "iopub.status.idle": "2025-05-04T20:54:43.305423Z",
     "shell.execute_reply": "2025-05-04T20:54:43.304565Z"
    },
    "id": "4INdTyGNo1um",
    "papermill": {
     "duration": 18.502856,
     "end_time": "2025-05-04T20:54:43.306876",
     "exception": false,
     "start_time": "2025-05-04T20:54:24.804020",
     "status": "completed"
    },
    "tags": []
   },
   "outputs": [
    {
     "name": "stderr",
     "output_type": "stream",
     "text": [
      "2025-05-04 20:54:28.746636: E external/local_xla/xla/stream_executor/cuda/cuda_fft.cc:477] Unable to register cuFFT factory: Attempting to register factory for plugin cuFFT when one has already been registered\n",
      "WARNING: All log messages before absl::InitializeLog() is called are written to STDERR\n",
      "E0000 00:00:1746392069.046440      19 cuda_dnn.cc:8310] Unable to register cuDNN factory: Attempting to register factory for plugin cuDNN when one has already been registered\n",
      "E0000 00:00:1746392069.125300      19 cuda_blas.cc:1418] Unable to register cuBLAS factory: Attempting to register factory for plugin cuBLAS when one has already been registered\n"
     ]
    }
   ],
   "source": [
    "import matplotlib.pyplot as plt\n",
    "import numpy as np\n",
    "import pandas as pd\n",
    "import random\n",
    "import re\n",
    "import tensorflow as tf\n",
    "\n",
    "from deap import base, creator, tools, algorithms\n",
    "\n",
    "from scipy.sparse import hstack, csr_matrix\n",
    "\n",
    "from sklearn.feature_extraction.text import TfidfVectorizer\n",
    "from sklearn.linear_model import LogisticRegression\n",
    "from sklearn.metrics import classification_report, accuracy_score, roc_auc_score, precision_score, recall_score, f1_score\n",
    "from sklearn.neural_network import MLPClassifier\n",
    "from sklearn.preprocessing import LabelEncoder\n",
    "\n",
    "from tensorflow.keras.callbacks import EarlyStopping, ReduceLROnPlateau\n",
    "from tensorflow.keras.models import Sequential, Model\n",
    "from tensorflow.keras.layers import Input, Embedding, LSTM, Dense, Concatenate\n",
    "from tensorflow.keras.optimizers import Adam\n",
    "from tensorflow.keras.utils import to_categorical\n",
    "from tensorflow.keras.preprocessing.sequence import pad_sequences\n",
    "from tensorflow.keras.preprocessing.text import Tokenizer"
   ]
  },
  {
   "cell_type": "code",
   "execution_count": 3,
   "id": "0bf905ae",
   "metadata": {
    "execution": {
     "iopub.execute_input": "2025-05-04T20:54:43.319103Z",
     "iopub.status.busy": "2025-05-04T20:54:43.318605Z",
     "iopub.status.idle": "2025-05-04T20:54:44.024282Z",
     "shell.execute_reply": "2025-05-04T20:54:44.023448Z"
    },
    "id": "KGSTBWhYr3oL",
    "papermill": {
     "duration": 0.71307,
     "end_time": "2025-05-04T20:54:44.025626",
     "exception": false,
     "start_time": "2025-05-04T20:54:43.312556",
     "status": "completed"
    },
    "tags": []
   },
   "outputs": [
    {
     "name": "stderr",
     "output_type": "stream",
     "text": [
      "/tmp/ipykernel_19/3522401757.py:10: DeprecationWarning: load_dataset is deprecated and will be removed in future version.\n",
      "  train_df = kagglehub.load_dataset(\n"
     ]
    },
    {
     "name": "stdout",
     "output_type": "stream",
     "text": [
      "First 5 records:    2401  Borderlands  Positive  \\\n",
      "0  2401  Borderlands  Positive   \n",
      "1  2401  Borderlands  Positive   \n",
      "2  2401  Borderlands  Positive   \n",
      "3  2401  Borderlands  Positive   \n",
      "4  2401  Borderlands  Positive   \n",
      "\n",
      "  im getting on borderlands and i will murder you all ,  \n",
      "0  I am coming to the borders and I will kill you...     \n",
      "1  im getting on borderlands and i will kill you ...     \n",
      "2  im coming on borderlands and i will murder you...     \n",
      "3  im getting on borderlands 2 and i will murder ...     \n",
      "4  im getting into borderlands and i can murder y...     \n"
     ]
    }
   ],
   "source": [
    "# Install dependencies as needed:\n",
    "# pip install kagglehub[pandas-datasets]\n",
    "import kagglehub\n",
    "from kagglehub import KaggleDatasetAdapter\n",
    "\n",
    "# Set the path to the file you'd like to load\n",
    "file_path_train = \"twitter_training.csv\"\n",
    "\n",
    "# Load the latest version\n",
    "train_df = kagglehub.load_dataset(\n",
    "  KaggleDatasetAdapter.PANDAS,\n",
    "  \"jp797498e/twitter-entity-sentiment-analysis\",\n",
    "  file_path_train,\n",
    "  # Provide any additional arguments like\n",
    "  # sql_query or pandas_kwargs. See the\n",
    "  # documenation for more information:\n",
    "  # https://github.com/Kaggle/kagglehub/blob/main/README.md#kaggledatasetadapterpandas\n",
    ")\n",
    "\n",
    "print(\"First 5 records:\", train_df.head())"
   ]
  },
  {
   "cell_type": "code",
   "execution_count": 4,
   "id": "881ac8d5",
   "metadata": {
    "execution": {
     "iopub.execute_input": "2025-05-04T20:54:44.038934Z",
     "iopub.status.busy": "2025-05-04T20:54:44.038450Z",
     "iopub.status.idle": "2025-05-04T20:54:44.159191Z",
     "shell.execute_reply": "2025-05-04T20:54:44.158293Z"
    },
    "id": "dkVQO224t9kF",
    "papermill": {
     "duration": 0.128283,
     "end_time": "2025-05-04T20:54:44.160533",
     "exception": false,
     "start_time": "2025-05-04T20:54:44.032250",
     "status": "completed"
    },
    "tags": []
   },
   "outputs": [
    {
     "name": "stdout",
     "output_type": "stream",
     "text": [
      "First 5 records:    3364   Facebook Irrelevant  \\\n",
      "0   352     Amazon    Neutral   \n",
      "1  8312  Microsoft   Negative   \n",
      "2  4371      CS-GO   Negative   \n",
      "3  4433     Google    Neutral   \n",
      "4  6273       FIFA   Negative   \n",
      "\n",
      "  I mentioned on Facebook that I was struggling for motivation to go for a run the other day, which has been translated by Tom’s great auntie as ‘Hayley can’t get out of bed’ and told to his grandma, who now thinks I’m a lazy, terrible person 🤣  \n",
      "0  BBC News - Amazon boss Jeff Bezos rejects clai...                                                                                                                                                                                                  \n",
      "1  @Microsoft Why do I pay for WORD when it funct...                                                                                                                                                                                                  \n",
      "2  CSGO matchmaking is so full of closet hacking,...                                                                                                                                                                                                  \n",
      "3  Now the President is slapping Americans in the...                                                                                                                                                                                                  \n",
      "4  Hi @EAHelp I’ve had Madeleine McCann in my cel...                                                                                                                                                                                                  \n"
     ]
    },
    {
     "name": "stderr",
     "output_type": "stream",
     "text": [
      "/tmp/ipykernel_19/1861116937.py:5: DeprecationWarning: load_dataset is deprecated and will be removed in future version.\n",
      "  valid_df = kagglehub.load_dataset(\n"
     ]
    }
   ],
   "source": [
    "# Set the path to the file you'd like to load\n",
    "file_path_valid = \"twitter_validation.csv\"\n",
    "\n",
    "# Load the latest version\n",
    "valid_df = kagglehub.load_dataset(\n",
    "  KaggleDatasetAdapter.PANDAS,\n",
    "  \"jp797498e/twitter-entity-sentiment-analysis\",\n",
    "  file_path_valid,\n",
    "  # Provide any additional arguments like\n",
    "  # sql_query or pandas_kwargs. See the\n",
    "  # documenation for more information:\n",
    "  # https://github.com/Kaggle/kagglehub/blob/main/README.md#kaggledatasetadapterpandas\n",
    ")\n",
    "\n",
    "print(\"First 5 records:\", valid_df.head())"
   ]
  },
  {
   "cell_type": "code",
   "execution_count": 5,
   "id": "9992310e",
   "metadata": {
    "execution": {
     "iopub.execute_input": "2025-05-04T20:54:44.174443Z",
     "iopub.status.busy": "2025-05-04T20:54:44.174211Z",
     "iopub.status.idle": "2025-05-04T20:54:44.178144Z",
     "shell.execute_reply": "2025-05-04T20:54:44.177538Z"
    },
    "id": "WzZX0dT8deXv",
    "papermill": {
     "duration": 0.011873,
     "end_time": "2025-05-04T20:54:44.179348",
     "exception": false,
     "start_time": "2025-05-04T20:54:44.167475",
     "status": "completed"
    },
    "tags": []
   },
   "outputs": [],
   "source": [
    "# Assign column names to the datasets\n",
    "train_df.columns = ['ID', 'Entity', 'Sentiment', 'Tweet_Content']\n",
    "valid_df.columns = ['ID', 'Entity', 'Sentiment', 'Tweet_Content']"
   ]
  },
  {
   "cell_type": "code",
   "execution_count": 6,
   "id": "342c0cf6",
   "metadata": {
    "execution": {
     "iopub.execute_input": "2025-05-04T20:54:44.192048Z",
     "iopub.status.busy": "2025-05-04T20:54:44.191819Z",
     "iopub.status.idle": "2025-05-04T20:54:44.250245Z",
     "shell.execute_reply": "2025-05-04T20:54:44.249358Z"
    },
    "id": "ss87DL-_c1KD",
    "papermill": {
     "duration": 0.066089,
     "end_time": "2025-05-04T20:54:44.251458",
     "exception": false,
     "start_time": "2025-05-04T20:54:44.185369",
     "status": "completed"
    },
    "tags": []
   },
   "outputs": [
    {
     "name": "stdout",
     "output_type": "stream",
     "text": [
      "     ID       Entity Sentiment  \\\n",
      "0  2401  Borderlands  Positive   \n",
      "1  2401  Borderlands  Positive   \n",
      "2  2401  Borderlands  Positive   \n",
      "3  2401  Borderlands  Positive   \n",
      "4  2401  Borderlands  Positive   \n",
      "5  2402  Borderlands  Positive   \n",
      "6  2402  Borderlands  Positive   \n",
      "7  2402  Borderlands  Positive   \n",
      "8  2402  Borderlands  Positive   \n",
      "9  2402  Borderlands  Positive   \n",
      "\n",
      "                                       Tweet_Content  \n",
      "0  I am coming to the borders and I will kill you...  \n",
      "1  im getting on borderlands and i will kill you ...  \n",
      "2  im coming on borderlands and i will murder you...  \n",
      "3  im getting on borderlands 2 and i will murder ...  \n",
      "4  im getting into borderlands and i can murder y...  \n",
      "5  So I spent a few hours making something for fu...  \n",
      "6  So I spent a couple of hours doing something f...  \n",
      "7  So I spent a few hours doing something for fun...  \n",
      "8  So I spent a few hours making something for fu...  \n",
      "9  2010 So I spent a few hours making something f...  \n",
      "<class 'pandas.core.frame.DataFrame'>\n",
      "RangeIndex: 74681 entries, 0 to 74680\n",
      "Data columns (total 4 columns):\n",
      " #   Column         Non-Null Count  Dtype \n",
      "---  ------         --------------  ----- \n",
      " 0   ID             74681 non-null  int64 \n",
      " 1   Entity         74681 non-null  object\n",
      " 2   Sentiment      74681 non-null  object\n",
      " 3   Tweet_Content  73995 non-null  object\n",
      "dtypes: int64(1), object(3)\n",
      "memory usage: 2.3+ MB\n",
      "None\n"
     ]
    }
   ],
   "source": [
    "# Display the first 10 rows of the dataset\n",
    "print(train_df.head(10))\n",
    "\n",
    "# Display dataset info (columns, data-types, non-null counts)\n",
    "print(train_df.info())"
   ]
  },
  {
   "cell_type": "code",
   "execution_count": 7,
   "id": "a7d64b3f",
   "metadata": {
    "execution": {
     "iopub.execute_input": "2025-05-04T20:54:44.265484Z",
     "iopub.status.busy": "2025-05-04T20:54:44.265237Z",
     "iopub.status.idle": "2025-05-04T20:54:44.275556Z",
     "shell.execute_reply": "2025-05-04T20:54:44.274957Z"
    },
    "id": "ws7G2B_Ac4m1",
    "papermill": {
     "duration": 0.01833,
     "end_time": "2025-05-04T20:54:44.276601",
     "exception": false,
     "start_time": "2025-05-04T20:54:44.258271",
     "status": "completed"
    },
    "tags": []
   },
   "outputs": [
    {
     "name": "stdout",
     "output_type": "stream",
     "text": [
      "      ID                Entity Sentiment  \\\n",
      "0    352                Amazon   Neutral   \n",
      "1   8312             Microsoft  Negative   \n",
      "2   4371                 CS-GO  Negative   \n",
      "3   4433                Google   Neutral   \n",
      "4   6273                  FIFA  Negative   \n",
      "5   7925             MaddenNFL  Positive   \n",
      "6  11332  TomClancysRainbowSix  Positive   \n",
      "7   1107        AssassinsCreed  Positive   \n",
      "8   2069            CallOfDuty  Negative   \n",
      "9   3185                 Dota2  Positive   \n",
      "\n",
      "                                       Tweet_Content  \n",
      "0  BBC News - Amazon boss Jeff Bezos rejects clai...  \n",
      "1  @Microsoft Why do I pay for WORD when it funct...  \n",
      "2  CSGO matchmaking is so full of closet hacking,...  \n",
      "3  Now the President is slapping Americans in the...  \n",
      "4  Hi @EAHelp I’ve had Madeleine McCann in my cel...  \n",
      "5  Thank you @EAMaddenNFL!! \\n\\nNew TE Austin Hoo...  \n",
      "6  Rocket League, Sea of Thieves or Rainbow Six: ...  \n",
      "7  my ass still knee-deep in Assassins Creed Odys...  \n",
      "8  FIX IT JESUS ! Please FIX IT ! What In the wor...  \n",
      "9  The professional dota 2 scene is fucking explo...  \n",
      "<class 'pandas.core.frame.DataFrame'>\n",
      "RangeIndex: 999 entries, 0 to 998\n",
      "Data columns (total 4 columns):\n",
      " #   Column         Non-Null Count  Dtype \n",
      "---  ------         --------------  ----- \n",
      " 0   ID             999 non-null    int64 \n",
      " 1   Entity         999 non-null    object\n",
      " 2   Sentiment      999 non-null    object\n",
      " 3   Tweet_Content  999 non-null    object\n",
      "dtypes: int64(1), object(3)\n",
      "memory usage: 31.3+ KB\n",
      "None\n"
     ]
    }
   ],
   "source": [
    "# Display the first 10 rows of the dataset\n",
    "print(valid_df.head(10))\n",
    "\n",
    "# Display dataset info (columns, data-types, non-null counts)\n",
    "print(valid_df.info())"
   ]
  },
  {
   "cell_type": "markdown",
   "id": "084d2ba1",
   "metadata": {
    "id": "AM6QppbUc-wc",
    "papermill": {
     "duration": 0.005906,
     "end_time": "2025-05-04T20:54:44.289417",
     "exception": false,
     "start_time": "2025-05-04T20:54:44.283511",
     "status": "completed"
    },
    "tags": []
   },
   "source": [
    "# **2. Data Cleaning & Preprocessing**"
   ]
  },
  {
   "cell_type": "code",
   "execution_count": 8,
   "id": "b9780a70",
   "metadata": {
    "execution": {
     "iopub.execute_input": "2025-05-04T20:54:44.302841Z",
     "iopub.status.busy": "2025-05-04T20:54:44.302636Z",
     "iopub.status.idle": "2025-05-04T20:54:44.320596Z",
     "shell.execute_reply": "2025-05-04T20:54:44.319839Z"
    },
    "id": "tQSriaNWdCAj",
    "papermill": {
     "duration": 0.02623,
     "end_time": "2025-05-04T20:54:44.321857",
     "exception": false,
     "start_time": "2025-05-04T20:54:44.295627",
     "status": "completed"
    },
    "tags": []
   },
   "outputs": [
    {
     "name": "stdout",
     "output_type": "stream",
     "text": [
      "ID               0.000000\n",
      "Entity           0.000000\n",
      "Sentiment        0.000000\n",
      "Tweet_Content    0.918574\n",
      "dtype: float64\n"
     ]
    }
   ],
   "source": [
    "# Print the percentage of missing values per column\n",
    "print(train_df.isnull().sum() / len(train_df) * 100)"
   ]
  },
  {
   "cell_type": "code",
   "execution_count": 9,
   "id": "1b95b927",
   "metadata": {
    "execution": {
     "iopub.execute_input": "2025-05-04T20:54:44.335468Z",
     "iopub.status.busy": "2025-05-04T20:54:44.335243Z",
     "iopub.status.idle": "2025-05-04T20:54:44.340739Z",
     "shell.execute_reply": "2025-05-04T20:54:44.340103Z"
    },
    "id": "Mirg2UGVdF0P",
    "papermill": {
     "duration": 0.013502,
     "end_time": "2025-05-04T20:54:44.341803",
     "exception": false,
     "start_time": "2025-05-04T20:54:44.328301",
     "status": "completed"
    },
    "tags": []
   },
   "outputs": [
    {
     "name": "stdout",
     "output_type": "stream",
     "text": [
      "ID               0.0\n",
      "Entity           0.0\n",
      "Sentiment        0.0\n",
      "Tweet_Content    0.0\n",
      "dtype: float64\n"
     ]
    }
   ],
   "source": [
    "# Print the percentage of missing values per column\n",
    "print(valid_df.isnull().sum() / len(valid_df) * 100)"
   ]
  },
  {
   "cell_type": "code",
   "execution_count": 10,
   "id": "b21c01ae",
   "metadata": {
    "execution": {
     "iopub.execute_input": "2025-05-04T20:54:44.355051Z",
     "iopub.status.busy": "2025-05-04T20:54:44.354828Z",
     "iopub.status.idle": "2025-05-04T20:54:44.371411Z",
     "shell.execute_reply": "2025-05-04T20:54:44.370893Z"
    },
    "id": "R6ximwgldv2m",
    "papermill": {
     "duration": 0.024173,
     "end_time": "2025-05-04T20:54:44.372432",
     "exception": false,
     "start_time": "2025-05-04T20:54:44.348259",
     "status": "completed"
    },
    "tags": []
   },
   "outputs": [],
   "source": [
    "# Drop rows where 'Tweet_Content' is NaN\n",
    "train_df = train_df.dropna(subset=['Tweet_Content'])"
   ]
  },
  {
   "cell_type": "code",
   "execution_count": 11,
   "id": "55ac952b",
   "metadata": {
    "execution": {
     "iopub.execute_input": "2025-05-04T20:54:44.385767Z",
     "iopub.status.busy": "2025-05-04T20:54:44.385528Z",
     "iopub.status.idle": "2025-05-04T20:54:44.402230Z",
     "shell.execute_reply": "2025-05-04T20:54:44.401476Z"
    },
    "id": "Avdg8dE0eDQD",
    "papermill": {
     "duration": 0.024383,
     "end_time": "2025-05-04T20:54:44.403275",
     "exception": false,
     "start_time": "2025-05-04T20:54:44.378892",
     "status": "completed"
    },
    "tags": []
   },
   "outputs": [
    {
     "name": "stdout",
     "output_type": "stream",
     "text": [
      "ID               0.0\n",
      "Entity           0.0\n",
      "Sentiment        0.0\n",
      "Tweet_Content    0.0\n",
      "dtype: float64\n"
     ]
    }
   ],
   "source": [
    "# Print the percentage of missing values per column\n",
    "print(train_df.isnull().sum() / len(train_df) * 100)"
   ]
  },
  {
   "cell_type": "code",
   "execution_count": 12,
   "id": "6953649a",
   "metadata": {
    "execution": {
     "iopub.execute_input": "2025-05-04T20:54:44.416185Z",
     "iopub.status.busy": "2025-05-04T20:54:44.415897Z",
     "iopub.status.idle": "2025-05-04T20:54:44.461236Z",
     "shell.execute_reply": "2025-05-04T20:54:44.460326Z"
    },
    "id": "2l6RWyP2eKtv",
    "papermill": {
     "duration": 0.053163,
     "end_time": "2025-05-04T20:54:44.462453",
     "exception": false,
     "start_time": "2025-05-04T20:54:44.409290",
     "status": "completed"
    },
    "tags": []
   },
   "outputs": [
    {
     "name": "stdout",
     "output_type": "stream",
     "text": [
      "Percentage of duplicated rows: 3.16%\n"
     ]
    }
   ],
   "source": [
    "# Number of duplicated rows\n",
    "num_duplicates = train_df.duplicated().sum()\n",
    "\n",
    "# Percentage of duplicated rows\n",
    "percentage_duplicates = (num_duplicates / len(train_df)) * 100\n",
    "print(f\"Percentage of duplicated rows: {percentage_duplicates:.2f}%\")"
   ]
  },
  {
   "cell_type": "code",
   "execution_count": 13,
   "id": "2eac2e8c",
   "metadata": {
    "execution": {
     "iopub.execute_input": "2025-05-04T20:54:44.476654Z",
     "iopub.status.busy": "2025-05-04T20:54:44.475830Z",
     "iopub.status.idle": "2025-05-04T20:54:44.482544Z",
     "shell.execute_reply": "2025-05-04T20:54:44.481758Z"
    },
    "id": "XSe9kiiqeN-x",
    "papermill": {
     "duration": 0.014803,
     "end_time": "2025-05-04T20:54:44.483712",
     "exception": false,
     "start_time": "2025-05-04T20:54:44.468909",
     "status": "completed"
    },
    "tags": []
   },
   "outputs": [
    {
     "name": "stdout",
     "output_type": "stream",
     "text": [
      "Percentage of duplicated rows: 0.00%\n"
     ]
    }
   ],
   "source": [
    "# Number of duplicated rows\n",
    "num_duplicates = valid_df.duplicated().sum()\n",
    "\n",
    "# Percentage of duplicated rows\n",
    "percentage_duplicates = (num_duplicates / len(valid_df)) * 100\n",
    "print(f\"Percentage of duplicated rows: {percentage_duplicates:.2f}%\")"
   ]
  },
  {
   "cell_type": "code",
   "execution_count": 14,
   "id": "5195ccc9",
   "metadata": {
    "execution": {
     "iopub.execute_input": "2025-05-04T20:54:44.497045Z",
     "iopub.status.busy": "2025-05-04T20:54:44.496821Z",
     "iopub.status.idle": "2025-05-04T20:54:44.576703Z",
     "shell.execute_reply": "2025-05-04T20:54:44.575934Z"
    },
    "id": "fZlOutXseR7Z",
    "papermill": {
     "duration": 0.087701,
     "end_time": "2025-05-04T20:54:44.577870",
     "exception": false,
     "start_time": "2025-05-04T20:54:44.490169",
     "status": "completed"
    },
    "tags": []
   },
   "outputs": [
    {
     "name": "stdout",
     "output_type": "stream",
     "text": [
      "Percentage of duplicated rows: 0.00%\n"
     ]
    }
   ],
   "source": [
    "training_dataset = train_df.drop_duplicates()\n",
    "\n",
    "# Number of duplicated rows\n",
    "num_duplicates = training_dataset.duplicated().sum()\n",
    "\n",
    "# Check for duplicated rows again\n",
    "percentage_duplicates = (num_duplicates / len(training_dataset)) * 100\n",
    "print(f\"Percentage of duplicated rows: {percentage_duplicates:.2f}%\")"
   ]
  },
  {
   "cell_type": "code",
   "execution_count": 15,
   "id": "a7575662",
   "metadata": {
    "execution": {
     "iopub.execute_input": "2025-05-04T20:54:44.592429Z",
     "iopub.status.busy": "2025-05-04T20:54:44.592230Z",
     "iopub.status.idle": "2025-05-04T20:54:45.009405Z",
     "shell.execute_reply": "2025-05-04T20:54:45.008571Z"
    },
    "id": "2eH3QIkOeyhs",
    "papermill": {
     "duration": 0.4256,
     "end_time": "2025-05-04T20:54:45.010583",
     "exception": false,
     "start_time": "2025-05-04T20:54:44.584983",
     "status": "completed"
    },
    "tags": []
   },
   "outputs": [
    {
     "name": "stderr",
     "output_type": "stream",
     "text": [
      "/tmp/ipykernel_19/2805181269.py:8: FutureWarning: DataFrame.applymap has been deprecated. Use DataFrame.map instead.\n",
      "  training_dataset = training_dataset.applymap(clean_text)\n"
     ]
    },
    {
     "name": "stdout",
     "output_type": "stream",
     "text": [
      "         ID       Entity Sentiment  \\\n",
      "0      2401  borderlands  positive   \n",
      "1      2401  borderlands  positive   \n",
      "2      2401  borderlands  positive   \n",
      "3      2401  borderlands  positive   \n",
      "4      2401  borderlands  positive   \n",
      "...     ...          ...       ...   \n",
      "74676  9200       nvidia  positive   \n",
      "74677  9200       nvidia  positive   \n",
      "74678  9200       nvidia  positive   \n",
      "74679  9200       nvidia  positive   \n",
      "74680  9200       nvidia  positive   \n",
      "\n",
      "                                           Tweet_Content  \n",
      "0      i am coming to the borders and i will kill you...  \n",
      "1      im getting on borderlands and i will kill you all  \n",
      "2      im coming on borderlands and i will murder you...  \n",
      "3      im getting on borderlands 2 and i will murder ...  \n",
      "4      im getting into borderlands and i can murder y...  \n",
      "...                                                  ...  \n",
      "74676  just realized that the windows partition of my...  \n",
      "74677  just realized that my mac window partition is ...  \n",
      "74678  just realized the windows partition of my mac ...  \n",
      "74679  just realized between the windows partition of...  \n",
      "74680  just like the windows partition of my mac is l...  \n",
      "\n",
      "[71655 rows x 4 columns]\n",
      "       ID             Entity   Sentiment  \\\n",
      "0     352             amazon     neutral   \n",
      "1    8312          microsoft    negative   \n",
      "2    4371               csgo    negative   \n",
      "3    4433             google     neutral   \n",
      "4    6273               fifa    negative   \n",
      "..    ...                ...         ...   \n",
      "994  4891  grandtheftautogta  irrelevant   \n",
      "995  4359               csgo  irrelevant   \n",
      "996  2652        borderlands    positive   \n",
      "997  8069          microsoft    positive   \n",
      "998  6960     johnsonjohnson     neutral   \n",
      "\n",
      "                                         Tweet_Content  \n",
      "0    bbc news  amazon boss jeff bezos rejects claim...  \n",
      "1    microsoft why do i pay for word when it functi...  \n",
      "2    csgo matchmaking is so full of closet hacking ...  \n",
      "3    now the president is slapping americans in the...  \n",
      "4    hi eahelp ive had madeleine mccann in my cella...  \n",
      "..                                                 ...  \n",
      "994   toronto is the arts and culture capital of ca...  \n",
      "995  this is actually a good move tot bring more vi...  \n",
      "996  today sucked so its time to drink wine n play ...  \n",
      "997    bought a fraction of microsoft today small wins  \n",
      "998  johnson  johnson to stop selling talc baby pow...  \n",
      "\n",
      "[999 rows x 4 columns]\n"
     ]
    },
    {
     "name": "stderr",
     "output_type": "stream",
     "text": [
      "/tmp/ipykernel_19/2805181269.py:12: FutureWarning: DataFrame.applymap has been deprecated. Use DataFrame.map instead.\n",
      "  validation_dataset = valid_df.applymap(clean_text)\n"
     ]
    }
   ],
   "source": [
    "# Define a function to clean the text\n",
    "def clean_text(text):\n",
    "    if isinstance(text, str):\n",
    "        return re.sub(r\"[^a-zA-Z0-9\\s]\", \"\", text).lower()\n",
    "    return text  # Leave non-strings (like numbers or NaN) unchanged\n",
    "\n",
    "# Apply cleaning to the DataFrames\n",
    "training_dataset = training_dataset.applymap(clean_text)\n",
    "\n",
    "print(training_dataset)\n",
    "\n",
    "validation_dataset = valid_df.applymap(clean_text)\n",
    "\n",
    "print(validation_dataset)"
   ]
  },
  {
   "cell_type": "code",
   "execution_count": 16,
   "id": "270bcf68",
   "metadata": {
    "execution": {
     "iopub.execute_input": "2025-05-04T20:54:45.026073Z",
     "iopub.status.busy": "2025-05-04T20:54:45.025823Z",
     "iopub.status.idle": "2025-05-04T20:54:45.033882Z",
     "shell.execute_reply": "2025-05-04T20:54:45.033340Z"
    },
    "id": "qwTQ0d9kas8t",
    "papermill": {
     "duration": 0.017029,
     "end_time": "2025-05-04T20:54:45.034932",
     "exception": false,
     "start_time": "2025-05-04T20:54:45.017903",
     "status": "completed"
    },
    "tags": []
   },
   "outputs": [],
   "source": [
    "# Drop ID as it is an irrelevant column\n",
    "training_dataset = training_dataset.drop('ID', axis=1)\n",
    "validation_dataset = validation_dataset.drop('ID', axis=1)"
   ]
  },
  {
   "cell_type": "code",
   "execution_count": 17,
   "id": "862ce3ca",
   "metadata": {
    "execution": {
     "iopub.execute_input": "2025-05-04T20:54:45.049523Z",
     "iopub.status.busy": "2025-05-04T20:54:45.049308Z",
     "iopub.status.idle": "2025-05-04T20:54:45.084026Z",
     "shell.execute_reply": "2025-05-04T20:54:45.083312Z"
    },
    "id": "I85zCrdDfenE",
    "papermill": {
     "duration": 0.043094,
     "end_time": "2025-05-04T20:54:45.085048",
     "exception": false,
     "start_time": "2025-05-04T20:54:45.041954",
     "status": "completed"
    },
    "tags": []
   },
   "outputs": [
    {
     "name": "stdout",
     "output_type": "stream",
     "text": [
      "       Entity  Sentiment                                      Tweet_Content\n",
      "0           4          3  i am coming to the borders and i will kill you...\n",
      "1           4          3  im getting on borderlands and i will kill you all\n",
      "2           4          3  im coming on borderlands and i will murder you...\n",
      "3           4          3  im getting on borderlands 2 and i will murder ...\n",
      "4           4          3  im getting into borderlands and i can murder y...\n",
      "...       ...        ...                                                ...\n",
      "74676      22          3  just realized that the windows partition of my...\n",
      "74677      22          3  just realized that my mac window partition is ...\n",
      "74678      22          3  just realized the windows partition of my mac ...\n",
      "74679      22          3  just realized between the windows partition of...\n",
      "74680      22          3  just like the windows partition of my mac is l...\n",
      "\n",
      "[71655 rows x 3 columns]\n",
      "     Entity  Sentiment                                      Tweet_Content\n",
      "0         0          2  bbc news  amazon boss jeff bezos rejects claim...\n",
      "1        20          1  microsoft why do i pay for word when it functi...\n",
      "2         7          1  csgo matchmaking is so full of closet hacking ...\n",
      "3        13          2  now the president is slapping americans in the...\n",
      "4        11          1  hi eahelp ive had madeleine mccann in my cella...\n",
      "..      ...        ...                                                ...\n",
      "994      14          0   toronto is the arts and culture capital of ca...\n",
      "995       7          0  this is actually a good move tot bring more vi...\n",
      "996       4          3  today sucked so its time to drink wine n play ...\n",
      "997      20          3    bought a fraction of microsoft today small wins\n",
      "998      17          2  johnson  johnson to stop selling talc baby pow...\n",
      "\n",
      "[999 rows x 3 columns]\n"
     ]
    }
   ],
   "source": [
    "# Label encode 'entity' and 'sentiment'\n",
    "entity_encoder = LabelEncoder()\n",
    "sentiment_encoder = LabelEncoder()\n",
    "\n",
    "# Only encode non-null values\n",
    "training_dataset['Entity'] = entity_encoder.fit_transform(training_dataset['Entity'])\n",
    "training_dataset['Sentiment'] = sentiment_encoder.fit_transform(training_dataset['Sentiment'])\n",
    "\n",
    "print(training_dataset)\n",
    "\n",
    "validation_dataset['Entity'] = entity_encoder.transform(validation_dataset['Entity'])\n",
    "validation_dataset['Sentiment'] = sentiment_encoder.transform(validation_dataset['Sentiment'])\n",
    "\n",
    "print(validation_dataset)"
   ]
  },
  {
   "cell_type": "code",
   "execution_count": 18,
   "id": "a91af7ed",
   "metadata": {
    "execution": {
     "iopub.execute_input": "2025-05-04T20:54:45.145952Z",
     "iopub.status.busy": "2025-05-04T20:54:45.145662Z",
     "iopub.status.idle": "2025-05-04T20:54:46.245671Z",
     "shell.execute_reply": "2025-05-04T20:54:46.245050Z"
    },
    "id": "7r76WatWI4el",
    "papermill": {
     "duration": 1.110268,
     "end_time": "2025-05-04T20:54:46.247067",
     "exception": false,
     "start_time": "2025-05-04T20:54:45.136799",
     "status": "completed"
    },
    "tags": []
   },
   "outputs": [],
   "source": [
    "# TFIDF vectorizer\n",
    "vectorizer = TfidfVectorizer()\n",
    "X_train_text = vectorizer.fit_transform(training_dataset['Tweet_Content'])\n",
    "X_val_text = vectorizer.transform(validation_dataset['Tweet_Content'])\n",
    "\n",
    "# Entity feature reshaped as sparse matrix\n",
    "X_train_entity = csr_matrix(np.array(training_dataset['Entity']).reshape(-1, 1))\n",
    "X_val_entity = csr_matrix(np.array(validation_dataset['Entity']).reshape(-1, 1))\n",
    "\n",
    "# Combine\n",
    "X_train = hstack((X_train_text, X_train_entity))\n",
    "X_val = hstack((X_val_text, X_val_entity))"
   ]
  },
  {
   "cell_type": "code",
   "execution_count": 19,
   "id": "3ca5ff62",
   "metadata": {
    "execution": {
     "iopub.execute_input": "2025-05-04T20:54:46.268525Z",
     "iopub.status.busy": "2025-05-04T20:54:46.268250Z",
     "iopub.status.idle": "2025-05-04T20:54:48.312160Z",
     "shell.execute_reply": "2025-05-04T20:54:48.311078Z"
    },
    "id": "y7JXF30CK5wZ",
    "papermill": {
     "duration": 2.054452,
     "end_time": "2025-05-04T20:54:48.313956",
     "exception": false,
     "start_time": "2025-05-04T20:54:46.259504",
     "status": "completed"
    },
    "tags": []
   },
   "outputs": [],
   "source": [
    "# Setup tokenizer\n",
    "tokenizer = Tokenizer()\n",
    "tokenizer.fit_on_texts(training_dataset['Tweet_Content'])\n",
    "\n",
    "# Convert text to sequences\n",
    "X_train_seq = tokenizer.texts_to_sequences(training_dataset['Tweet_Content'])\n",
    "X_val_seq = tokenizer.texts_to_sequences(validation_dataset['Tweet_Content'])\n",
    "\n",
    "# Pad sequences to the same length\n",
    "maxlen = max([len(seq) for seq in X_train_seq])  # You can also fix it manually (e.g., 100)\n",
    "X_train_pad = pad_sequences(X_train_seq, maxlen=maxlen, padding='post')\n",
    "X_val_pad = pad_sequences(X_val_seq, maxlen=maxlen, padding='post')\n",
    "\n",
    "# Entity features\n",
    "X_train_entity = np.array(training_dataset['Entity']).reshape(-1, 1)\n",
    "X_val_entity = np.array(validation_dataset['Entity']).reshape(-1, 1)"
   ]
  },
  {
   "cell_type": "code",
   "execution_count": 20,
   "id": "d79cc782",
   "metadata": {
    "execution": {
     "iopub.execute_input": "2025-05-04T20:54:48.334732Z",
     "iopub.status.busy": "2025-05-04T20:54:48.334482Z",
     "iopub.status.idle": "2025-05-04T20:54:48.338231Z",
     "shell.execute_reply": "2025-05-04T20:54:48.337527Z"
    },
    "id": "EbIsFiD_OsLK",
    "papermill": {
     "duration": 0.014375,
     "end_time": "2025-05-04T20:54:48.339430",
     "exception": false,
     "start_time": "2025-05-04T20:54:48.325055",
     "status": "completed"
    },
    "tags": []
   },
   "outputs": [],
   "source": [
    "# Define target\n",
    "y_train = training_dataset['Sentiment']\n",
    "y_val = validation_dataset['Sentiment']"
   ]
  },
  {
   "cell_type": "markdown",
   "id": "17282cce",
   "metadata": {
    "id": "KXEDLVEbPDxi",
    "papermill": {
     "duration": 0.007245,
     "end_time": "2025-05-04T20:54:48.354663",
     "exception": false,
     "start_time": "2025-05-04T20:54:48.347418",
     "status": "completed"
    },
    "tags": []
   },
   "source": [
    "# **3. MLP Implementation**"
   ]
  },
  {
   "cell_type": "code",
   "execution_count": 21,
   "id": "0ab74b06",
   "metadata": {
    "execution": {
     "iopub.execute_input": "2025-05-04T20:54:48.370449Z",
     "iopub.status.busy": "2025-05-04T20:54:48.370195Z",
     "iopub.status.idle": "2025-05-04T20:56:43.865301Z",
     "shell.execute_reply": "2025-05-04T20:56:43.864245Z"
    },
    "id": "lx-M-qD3b5wN",
    "papermill": {
     "duration": 115.5048,
     "end_time": "2025-05-04T20:56:43.866817",
     "exception": false,
     "start_time": "2025-05-04T20:54:48.362017",
     "status": "completed"
    },
    "tags": []
   },
   "outputs": [
    {
     "name": "stdout",
     "output_type": "stream",
     "text": [
      "Iteration 1, loss = 1.06149807\n",
      "Validation score: 0.734161\n",
      "Iteration 2, loss = 0.54377139\n",
      "Validation score: 0.840357\n",
      "Iteration 3, loss = 0.33440974\n",
      "Validation score: 0.875105\n",
      "Iteration 4, loss = 0.24296528\n",
      "Validation score: 0.886548\n",
      "Iteration 5, loss = 0.19375773\n",
      "Validation score: 0.891432\n",
      "MLP Evaluation:\n",
      "              precision    recall  f1-score   support\n",
      "\n",
      "           0       0.98      0.96      0.97       171\n",
      "           1       0.97      0.98      0.98       266\n",
      "           2       0.98      0.96      0.97       285\n",
      "           3       0.94      0.96      0.95       277\n",
      "\n",
      "    accuracy                           0.97       999\n",
      "   macro avg       0.97      0.97      0.97       999\n",
      "weighted avg       0.97      0.97      0.97       999\n",
      "\n",
      "Accuracy: 0.9670\n",
      "Precision: 0.9686\n",
      "Recall: 0.9663\n",
      "F1 Score: 0.9674\n",
      "ROC AUC: 0.9969\n"
     ]
    },
    {
     "name": "stderr",
     "output_type": "stream",
     "text": [
      "/usr/local/lib/python3.11/dist-packages/sklearn/neural_network/_multilayer_perceptron.py:686: ConvergenceWarning: Stochastic Optimizer: Maximum iterations (5) reached and the optimization hasn't converged yet.\n",
      "  warnings.warn(\n"
     ]
    }
   ],
   "source": [
    "# Initialize the MLP model\n",
    "mlp_model_original = MLPClassifier(hidden_layer_sizes=(100,), max_iter=5, early_stopping=True, verbose=True, random_state=42)\n",
    "\n",
    "# Train the model\n",
    "mlp_model_original.fit(X_train, y_train)\n",
    "\n",
    "# Predict\n",
    "y_pred_mlp_original = mlp_model_original.predict(X_val)\n",
    "\n",
    "# Evaluation\n",
    "print(\"MLP Evaluation:\")\n",
    "print(classification_report(y_val, y_pred_mlp_original))\n",
    "print(f\"Accuracy: {accuracy_score(y_val, y_pred_mlp_original):.4f}\")\n",
    "print(f\"Precision: {precision_score(y_val, y_pred_mlp_original, average='macro'):.4f}\")\n",
    "print(f\"Recall: {recall_score(y_val, y_pred_mlp_original, average='macro'):.4f}\")\n",
    "print(f\"F1 Score: {f1_score(y_val, y_pred_mlp_original, average='macro'):.4f}\")\n",
    "print(f\"ROC AUC: {roc_auc_score(y_val, mlp_model_original.predict_proba(X_val), multi_class='ovr'):.4f}\")"
   ]
  },
  {
   "cell_type": "code",
   "execution_count": 22,
   "id": "daedfe91",
   "metadata": {
    "execution": {
     "iopub.execute_input": "2025-05-04T20:56:43.883785Z",
     "iopub.status.busy": "2025-05-04T20:56:43.883538Z",
     "iopub.status.idle": "2025-05-04T20:56:44.414981Z",
     "shell.execute_reply": "2025-05-04T20:56:44.414311Z"
    },
    "id": "W575BPTiX_Y_",
    "papermill": {
     "duration": 0.540928,
     "end_time": "2025-05-04T20:56:44.416282",
     "exception": false,
     "start_time": "2025-05-04T20:56:43.875354",
     "status": "completed"
    },
    "tags": []
   },
   "outputs": [
    {
     "data": {
      "image/png": "[encoded data removed]",
      "text/plain": [
       "<Figure size 1000x500 with 1 Axes>"
      ]
     },
     "metadata": {},
     "output_type": "display_data"
    }
   ],
   "source": [
    "# Store the results\n",
    "mlp_original_metrics = {\n",
    "    'Accuracy': accuracy_score(y_val, y_pred_mlp_original),\n",
    "    'Precision': precision_score(y_val, y_pred_mlp_original, average='macro'),\n",
    "    'Recall': recall_score(y_val, y_pred_mlp_original, average='macro'),\n",
    "    'F1 Score': f1_score(y_val, y_pred_mlp_original, average='macro'),\n",
    "    'ROC AUC': roc_auc_score(y_val, mlp_model_original.predict_proba(X_val), multi_class='ovr')\n",
    "}\n",
    "\n",
    "# --- Plotting the Evaluation Metrics ---\n",
    "plt.figure(figsize=(10, 5))\n",
    "plt.bar(mlp_original_metrics.keys(), mlp_original_metrics.values(), color='skyblue')\n",
    "plt.ylim(0, 1)\n",
    "plt.title('MLP Classifier Evaluation Metrics')\n",
    "plt.ylabel('Score')\n",
    "for i, v in enumerate(mlp_original_metrics.values()):\n",
    "    plt.text(i, v + 0.02, f\"{v:.2f}\", ha='center', fontweight='bold')\n",
    "plt.grid(axis='y', linestyle='--', alpha=0.7)\n",
    "plt.show()"
   ]
  },
  {
   "cell_type": "code",
   "execution_count": 23,
   "id": "9b0532b3",
   "metadata": {
    "execution": {
     "iopub.execute_input": "2025-05-04T20:56:44.433644Z",
     "iopub.status.busy": "2025-05-04T20:56:44.433415Z",
     "iopub.status.idle": "2025-05-04T20:56:44.604726Z",
     "shell.execute_reply": "2025-05-04T20:56:44.604054Z"
    },
    "id": "kcv-YW-VYEyY",
    "papermill": {
     "duration": 0.181652,
     "end_time": "2025-05-04T20:56:44.606365",
     "exception": false,
     "start_time": "2025-05-04T20:56:44.424713",
     "status": "completed"
    },
    "tags": []
   },
   "outputs": [
    {
     "data": {
      "image/png": "[encoded data removed]",
      "text/plain": [
       "<Figure size 1000x500 with 1 Axes>"
      ]
     },
     "metadata": {},
     "output_type": "display_data"
    }
   ],
   "source": [
    "# --- Plotting the Loss Curve ---\n",
    "plt.figure(figsize=(10, 5))\n",
    "plt.plot(mlp_model_original.loss_curve_, marker='o', color='tomato')\n",
    "plt.title('MLP Classifier Loss Curve')\n",
    "plt.xlabel('Iterations')\n",
    "plt.ylabel('Loss')\n",
    "plt.grid(True)\n",
    "plt.show()"
   ]
  },
  {
   "cell_type": "markdown",
   "id": "016e093a",
   "metadata": {
    "id": "fiMUVPZrHWbt",
    "papermill": {
     "duration": 0.008717,
     "end_time": "2025-05-04T20:56:44.624569",
     "exception": false,
     "start_time": "2025-05-04T20:56:44.615852",
     "status": "completed"
    },
    "tags": []
   },
   "source": [
    "# **4. LSTM Implementation**"
   ]
  },
  {
   "cell_type": "code",
   "execution_count": 24,
   "id": "e7b38c21",
   "metadata": {
    "execution": {
     "iopub.execute_input": "2025-05-04T20:56:44.644310Z",
     "iopub.status.busy": "2025-05-04T20:56:44.644078Z",
     "iopub.status.idle": "2025-05-04T21:16:53.887788Z",
     "shell.execute_reply": "2025-05-04T21:16:53.887040Z"
    },
    "id": "7qwJgdCgHafZ",
    "papermill": {
     "duration": 1209.255072,
     "end_time": "2025-05-04T21:16:53.888914",
     "exception": false,
     "start_time": "2025-05-04T20:56:44.633842",
     "status": "completed"
    },
    "tags": []
   },
   "outputs": [
    {
     "name": "stderr",
     "output_type": "stream",
     "text": [
      "I0000 00:00:1746392206.369807      19 gpu_device.cc:2022] Created device /job:localhost/replica:0/task:0/device:GPU:0 with 13942 MB memory:  -> device: 0, name: Tesla T4, pci bus id: 0000:00:04.0, compute capability: 7.5\n",
      "I0000 00:00:1746392206.370574      19 gpu_device.cc:2022] Created device /job:localhost/replica:0/task:0/device:GPU:1 with 13942 MB memory:  -> device: 1, name: Tesla T4, pci bus id: 0000:00:05.0, compute capability: 7.5\n"
     ]
    },
    {
     "data": {
      "text/html": [
       "<pre style=\"white-space:pre;overflow-x:auto;line-height:normal;font-family:Menlo,'DejaVu Sans Mono',consolas,'Courier New',monospace\"><span style=\"font-weight: bold\">Model: \"functional\"</span>\n",
       "</pre>\n"
      ],
      "text/plain": [
       "\u001b[1mModel: \"functional\"\u001b[0m\n"
      ]
     },
     "metadata": {},
     "output_type": "display_data"
    },
    {
     "data": {
      "text/html": [
       "<pre style=\"white-space:pre;overflow-x:auto;line-height:normal;font-family:Menlo,'DejaVu Sans Mono',consolas,'Courier New',monospace\">┏━━━━━━━━━━━━━━━━━━━━━━━━━━━┳━━━━━━━━━━━━━━━━━━━━━━━━┳━━━━━━━━━━━━━━━━┳━━━━━━━━━━━━━━━━━━━━━━━━┓\n",
       "┃<span style=\"font-weight: bold\"> Layer (type)              </span>┃<span style=\"font-weight: bold\"> Output Shape           </span>┃<span style=\"font-weight: bold\">        Param # </span>┃<span style=\"font-weight: bold\"> Connected to           </span>┃\n",
       "┡━━━━━━━━━━━━━━━━━━━━━━━━━━━╇━━━━━━━━━━━━━━━━━━━━━━━━╇━━━━━━━━━━━━━━━━╇━━━━━━━━━━━━━━━━━━━━━━━━┩\n",
       "│ text_input (<span style=\"color: #0087ff; text-decoration-color: #0087ff\">InputLayer</span>)   │ (<span style=\"color: #00d7ff; text-decoration-color: #00d7ff\">None</span>, <span style=\"color: #00af00; text-decoration-color: #00af00\">166</span>)            │              <span style=\"color: #00af00; text-decoration-color: #00af00\">0</span> │ -                      │\n",
       "├───────────────────────────┼────────────────────────┼────────────────┼────────────────────────┤\n",
       "│ embedding (<span style=\"color: #0087ff; text-decoration-color: #0087ff\">Embedding</span>)     │ (<span style=\"color: #00d7ff; text-decoration-color: #00d7ff\">None</span>, <span style=\"color: #00af00; text-decoration-color: #00af00\">166</span>, <span style=\"color: #00af00; text-decoration-color: #00af00\">100</span>)       │      <span style=\"color: #00af00; text-decoration-color: #00af00\">4,074,800</span> │ text_input[<span style=\"color: #00af00; text-decoration-color: #00af00\">0</span>][<span style=\"color: #00af00; text-decoration-color: #00af00\">0</span>]       │\n",
       "├───────────────────────────┼────────────────────────┼────────────────┼────────────────────────┤\n",
       "│ lstm (<span style=\"color: #0087ff; text-decoration-color: #0087ff\">LSTM</span>)               │ (<span style=\"color: #00d7ff; text-decoration-color: #00d7ff\">None</span>, <span style=\"color: #00af00; text-decoration-color: #00af00\">100</span>)            │         <span style=\"color: #00af00; text-decoration-color: #00af00\">80,400</span> │ embedding[<span style=\"color: #00af00; text-decoration-color: #00af00\">0</span>][<span style=\"color: #00af00; text-decoration-color: #00af00\">0</span>]        │\n",
       "├───────────────────────────┼────────────────────────┼────────────────┼────────────────────────┤\n",
       "│ entity_input (<span style=\"color: #0087ff; text-decoration-color: #0087ff\">InputLayer</span>) │ (<span style=\"color: #00d7ff; text-decoration-color: #00d7ff\">None</span>, <span style=\"color: #00af00; text-decoration-color: #00af00\">1</span>)              │              <span style=\"color: #00af00; text-decoration-color: #00af00\">0</span> │ -                      │\n",
       "├───────────────────────────┼────────────────────────┼────────────────┼────────────────────────┤\n",
       "│ concatenate (<span style=\"color: #0087ff; text-decoration-color: #0087ff\">Concatenate</span>) │ (<span style=\"color: #00d7ff; text-decoration-color: #00d7ff\">None</span>, <span style=\"color: #00af00; text-decoration-color: #00af00\">101</span>)            │              <span style=\"color: #00af00; text-decoration-color: #00af00\">0</span> │ lstm[<span style=\"color: #00af00; text-decoration-color: #00af00\">0</span>][<span style=\"color: #00af00; text-decoration-color: #00af00\">0</span>],            │\n",
       "│                           │                        │                │ entity_input[<span style=\"color: #00af00; text-decoration-color: #00af00\">0</span>][<span style=\"color: #00af00; text-decoration-color: #00af00\">0</span>]     │\n",
       "├───────────────────────────┼────────────────────────┼────────────────┼────────────────────────┤\n",
       "│ dense (<span style=\"color: #0087ff; text-decoration-color: #0087ff\">Dense</span>)             │ (<span style=\"color: #00d7ff; text-decoration-color: #00d7ff\">None</span>, <span style=\"color: #00af00; text-decoration-color: #00af00\">4</span>)              │            <span style=\"color: #00af00; text-decoration-color: #00af00\">408</span> │ concatenate[<span style=\"color: #00af00; text-decoration-color: #00af00\">0</span>][<span style=\"color: #00af00; text-decoration-color: #00af00\">0</span>]      │\n",
       "└───────────────────────────┴────────────────────────┴────────────────┴────────────────────────┘\n",
       "</pre>\n"
      ],
      "text/plain": [
       "┏━━━━━━━━━━━━━━━━━━━━━━━━━━━┳━━━━━━━━━━━━━━━━━━━━━━━━┳━━━━━━━━━━━━━━━━┳━━━━━━━━━━━━━━━━━━━━━━━━┓\n",
       "┃\u001b[1m \u001b[0m\u001b[1mLayer (type)             \u001b[0m\u001b[1m \u001b[0m┃\u001b[1m \u001b[0m\u001b[1mOutput Shape          \u001b[0m\u001b[1m \u001b[0m┃\u001b[1m \u001b[0m\u001b[1m       Param #\u001b[0m\u001b[1m \u001b[0m┃\u001b[1m \u001b[0m\u001b[1mConnected to          \u001b[0m\u001b[1m \u001b[0m┃\n",
       "┡━━━━━━━━━━━━━━━━━━━━━━━━━━━╇━━━━━━━━━━━━━━━━━━━━━━━━╇━━━━━━━━━━━━━━━━╇━━━━━━━━━━━━━━━━━━━━━━━━┩\n",
       "│ text_input (\u001b[38;5;33mInputLayer\u001b[0m)   │ (\u001b[38;5;45mNone\u001b[0m, \u001b[38;5;34m166\u001b[0m)            │              \u001b[38;5;34m0\u001b[0m │ -                      │\n",
       "├───────────────────────────┼────────────────────────┼────────────────┼────────────────────────┤\n",
       "│ embedding (\u001b[38;5;33mEmbedding\u001b[0m)     │ (\u001b[38;5;45mNone\u001b[0m, \u001b[38;5;34m166\u001b[0m, \u001b[38;5;34m100\u001b[0m)       │      \u001b[38;5;34m4,074,800\u001b[0m │ text_input[\u001b[38;5;34m0\u001b[0m][\u001b[38;5;34m0\u001b[0m]       │\n",
       "├───────────────────────────┼────────────────────────┼────────────────┼────────────────────────┤\n",
       "│ lstm (\u001b[38;5;33mLSTM\u001b[0m)               │ (\u001b[38;5;45mNone\u001b[0m, \u001b[38;5;34m100\u001b[0m)            │         \u001b[38;5;34m80,400\u001b[0m │ embedding[\u001b[38;5;34m0\u001b[0m][\u001b[38;5;34m0\u001b[0m]        │\n",
       "├───────────────────────────┼────────────────────────┼────────────────┼────────────────────────┤\n",
       "│ entity_input (\u001b[38;5;33mInputLayer\u001b[0m) │ (\u001b[38;5;45mNone\u001b[0m, \u001b[38;5;34m1\u001b[0m)              │              \u001b[38;5;34m0\u001b[0m │ -                      │\n",
       "├───────────────────────────┼────────────────────────┼────────────────┼────────────────────────┤\n",
       "│ concatenate (\u001b[38;5;33mConcatenate\u001b[0m) │ (\u001b[38;5;45mNone\u001b[0m, \u001b[38;5;34m101\u001b[0m)            │              \u001b[38;5;34m0\u001b[0m │ lstm[\u001b[38;5;34m0\u001b[0m][\u001b[38;5;34m0\u001b[0m],            │\n",
       "│                           │                        │                │ entity_input[\u001b[38;5;34m0\u001b[0m][\u001b[38;5;34m0\u001b[0m]     │\n",
       "├───────────────────────────┼────────────────────────┼────────────────┼────────────────────────┤\n",
       "│ dense (\u001b[38;5;33mDense\u001b[0m)             │ (\u001b[38;5;45mNone\u001b[0m, \u001b[38;5;34m4\u001b[0m)              │            \u001b[38;5;34m408\u001b[0m │ concatenate[\u001b[38;5;34m0\u001b[0m][\u001b[38;5;34m0\u001b[0m]      │\n",
       "└───────────────────────────┴────────────────────────┴────────────────┴────────────────────────┘\n"
      ]
     },
     "metadata": {},
     "output_type": "display_data"
    },
    {
     "data": {
      "text/html": [
       "<pre style=\"white-space:pre;overflow-x:auto;line-height:normal;font-family:Menlo,'DejaVu Sans Mono',consolas,'Courier New',monospace\"><span style=\"font-weight: bold\"> Total params: </span><span style=\"color: #00af00; text-decoration-color: #00af00\">4,155,608</span> (15.85 MB)\n",
       "</pre>\n"
      ],
      "text/plain": [
       "\u001b[1m Total params: \u001b[0m\u001b[38;5;34m4,155,608\u001b[0m (15.85 MB)\n"
      ]
     },
     "metadata": {},
     "output_type": "display_data"
    },
    {
     "data": {
      "text/html": [
       "<pre style=\"white-space:pre;overflow-x:auto;line-height:normal;font-family:Menlo,'DejaVu Sans Mono',consolas,'Courier New',monospace\"><span style=\"font-weight: bold\"> Trainable params: </span><span style=\"color: #00af00; text-decoration-color: #00af00\">4,155,608</span> (15.85 MB)\n",
       "</pre>\n"
      ],
      "text/plain": [
       "\u001b[1m Trainable params: \u001b[0m\u001b[38;5;34m4,155,608\u001b[0m (15.85 MB)\n"
      ]
     },
     "metadata": {},
     "output_type": "display_data"
    },
    {
     "data": {
      "text/html": [
       "<pre style=\"white-space:pre;overflow-x:auto;line-height:normal;font-family:Menlo,'DejaVu Sans Mono',consolas,'Courier New',monospace\"><span style=\"font-weight: bold\"> Non-trainable params: </span><span style=\"color: #00af00; text-decoration-color: #00af00\">0</span> (0.00 B)\n",
       "</pre>\n"
      ],
      "text/plain": [
       "\u001b[1m Non-trainable params: \u001b[0m\u001b[38;5;34m0\u001b[0m (0.00 B)\n"
      ]
     },
     "metadata": {},
     "output_type": "display_data"
    },
    {
     "name": "stdout",
     "output_type": "stream",
     "text": [
      "Epoch 1/5\n",
      "\u001b[1m1120/1120\u001b[0m \u001b[32m━━━━━━━━━━━━━━━━━━━━\u001b[0m\u001b[37m\u001b[0m \u001b[1m248s\u001b[0m 217ms/step - accuracy: 0.2911 - loss: 1.5335 - val_accuracy: 0.2933 - val_loss: 1.3692\n",
      "Epoch 2/5\n",
      "\u001b[1m1120/1120\u001b[0m \u001b[32m━━━━━━━━━━━━━━━━━━━━\u001b[0m\u001b[37m\u001b[0m \u001b[1m240s\u001b[0m 214ms/step - accuracy: 0.3125 - loss: 1.3656 - val_accuracy: 0.3093 - val_loss: 1.3718\n",
      "Epoch 3/5\n",
      "\u001b[1m1120/1120\u001b[0m \u001b[32m━━━━━━━━━━━━━━━━━━━━\u001b[0m\u001b[37m\u001b[0m \u001b[1m241s\u001b[0m 215ms/step - accuracy: 0.3098 - loss: 1.3663 - val_accuracy: 0.2673 - val_loss: 1.3771\n",
      "Epoch 4/5\n",
      "\u001b[1m1120/1120\u001b[0m \u001b[32m━━━━━━━━━━━━━━━━━━━━\u001b[0m\u001b[37m\u001b[0m \u001b[1m237s\u001b[0m 212ms/step - accuracy: 0.3119 - loss: 1.3650 - val_accuracy: 0.3093 - val_loss: 1.3751\n",
      "Epoch 5/5\n",
      "\u001b[1m1120/1120\u001b[0m \u001b[32m━━━━━━━━━━━━━━━━━━━━\u001b[0m\u001b[37m\u001b[0m \u001b[1m237s\u001b[0m 212ms/step - accuracy: 0.3181 - loss: 1.3653 - val_accuracy: 0.2963 - val_loss: 1.3710\n",
      "\u001b[1m32/32\u001b[0m \u001b[32m━━━━━━━━━━━━━━━━━━━━\u001b[0m\u001b[37m\u001b[0m \u001b[1m2s\u001b[0m 66ms/step\n",
      "LSTM Evaluation:\n",
      "              precision    recall  f1-score   support\n",
      "\n",
      "           0       0.00      0.00      0.00       171\n",
      "           1       0.28      0.89      0.43       266\n",
      "           2       0.00      0.00      0.00       285\n",
      "           3       0.36      0.21      0.26       277\n",
      "\n",
      "    accuracy                           0.30       999\n",
      "   macro avg       0.16      0.28      0.17       999\n",
      "weighted avg       0.17      0.30      0.19       999\n",
      "\n",
      "Accuracy: 0.2963\n",
      "Precision: 0.1606\n",
      "Recall: 0.2760\n",
      "F1 Score: 0.1739\n",
      "ROC AUC: 0.5260\n"
     ]
    },
    {
     "name": "stderr",
     "output_type": "stream",
     "text": [
      "/usr/local/lib/python3.11/dist-packages/sklearn/metrics/_classification.py:1344: UndefinedMetricWarning: Precision and F-score are ill-defined and being set to 0.0 in labels with no predicted samples. Use `zero_division` parameter to control this behavior.\n",
      "  _warn_prf(average, modifier, msg_start, len(result))\n",
      "/usr/local/lib/python3.11/dist-packages/sklearn/metrics/_classification.py:1344: UndefinedMetricWarning: Precision and F-score are ill-defined and being set to 0.0 in labels with no predicted samples. Use `zero_division` parameter to control this behavior.\n",
      "  _warn_prf(average, modifier, msg_start, len(result))\n",
      "/usr/local/lib/python3.11/dist-packages/sklearn/metrics/_classification.py:1344: UndefinedMetricWarning: Precision and F-score are ill-defined and being set to 0.0 in labels with no predicted samples. Use `zero_division` parameter to control this behavior.\n",
      "  _warn_prf(average, modifier, msg_start, len(result))\n",
      "/usr/local/lib/python3.11/dist-packages/sklearn/metrics/_classification.py:1344: UndefinedMetricWarning: Precision is ill-defined and being set to 0.0 in labels with no predicted samples. Use `zero_division` parameter to control this behavior.\n",
      "  _warn_prf(average, modifier, msg_start, len(result))\n"
     ]
    }
   ],
   "source": [
    "# Convert target to categorical\n",
    "y_train_cat = to_categorical(y_train)\n",
    "y_val_cat = to_categorical(y_val)\n",
    "\n",
    "# Build the model with two inputs\n",
    "text_input = Input(shape=(maxlen,), name='text_input')\n",
    "entity_input = Input(shape=(1,), name='entity_input')\n",
    "\n",
    "embedding = Embedding(input_dim=len(tokenizer.word_index) + 1, output_dim=100)(text_input)\n",
    "lstm = LSTM(100, dropout=0.2, recurrent_dropout=0.2)(embedding)\n",
    "\n",
    "# Combine LSTM output with entity feature\n",
    "combined = Concatenate()([lstm, entity_input])\n",
    "\n",
    "output = Dense(4, activation='softmax')(combined)\n",
    "\n",
    "lstm_model_original = Model(inputs=[text_input, entity_input], outputs=output)\n",
    "\n",
    "lstm_model_original.compile(loss='categorical_crossentropy', optimizer=Adam(), metrics=['accuracy'])\n",
    "\n",
    "lstm_model_original.summary()\n",
    "\n",
    "# Train the model\n",
    "history_original = lstm_model_original.fit(\n",
    "    [X_train_pad, X_train_entity],\n",
    "    y_train_cat,\n",
    "    epochs=5,\n",
    "    batch_size=64,\n",
    "    validation_data=([X_val_pad, X_val_entity], y_val_cat),\n",
    "    verbose=1\n",
    ")\n",
    "\n",
    "# Predict probabilities\n",
    "y_pred_prob_lstm_original = lstm_model_original.predict([X_val_pad, X_val_entity])\n",
    "\n",
    "# Convert probabilities to predicted class labels for classification metrics\n",
    "y_pred_class_lstm_original = np.argmax(y_pred_prob_lstm_original, axis=1)\n",
    "\n",
    "# Evaluation\n",
    "print(\"LSTM Evaluation:\")\n",
    "print(classification_report(y_val, y_pred_class_lstm_original))\n",
    "print(f\"Accuracy: {accuracy_score(y_val, y_pred_class_lstm_original):.4f}\")\n",
    "print(f\"Precision: {precision_score(y_val, y_pred_class_lstm_original, average='macro'):.4f}\")\n",
    "print(f\"Recall: {recall_score(y_val, y_pred_class_lstm_original, average='macro'):.4f}\")\n",
    "print(f\"F1 Score: {f1_score(y_val, y_pred_class_lstm_original, average='macro'):.4f}\")\n",
    "\n",
    "# Use predicted probabilities for ROC AUC\n",
    "print(f\"ROC AUC: {roc_auc_score(y_val, y_pred_prob_lstm_original, multi_class='ovr'):.4f}\")"
   ]
  },
  {
   "cell_type": "code",
   "execution_count": 25,
   "id": "74980f91",
   "metadata": {
    "execution": {
     "iopub.execute_input": "2025-05-04T21:16:54.428337Z",
     "iopub.status.busy": "2025-05-04T21:16:54.428049Z",
     "iopub.status.idle": "2025-05-04T21:16:54.574469Z",
     "shell.execute_reply": "2025-05-04T21:16:54.573695Z"
    },
    "id": "SwaUNBeArDfL",
    "papermill": {
     "duration": 0.391787,
     "end_time": "2025-05-04T21:16:54.575451",
     "exception": false,
     "start_time": "2025-05-04T21:16:54.183664",
     "status": "completed"
    },
    "tags": []
   },
   "outputs": [
    {
     "name": "stderr",
     "output_type": "stream",
     "text": [
      "/usr/local/lib/python3.11/dist-packages/sklearn/metrics/_classification.py:1344: UndefinedMetricWarning: Precision is ill-defined and being set to 0.0 in labels with no predicted samples. Use `zero_division` parameter to control this behavior.\n",
      "  _warn_prf(average, modifier, msg_start, len(result))\n"
     ]
    },
    {
     "data": {
      "image/png": "[encoded data removed]",
      "text/plain": [
       "<Figure size 1000x500 with 1 Axes>"
      ]
     },
     "metadata": {},
     "output_type": "display_data"
    }
   ],
   "source": [
    "# LSTM Metrics\n",
    "lstm_original_metrics = {\n",
    "    'Accuracy': accuracy_score(y_val, y_pred_class_lstm_original),\n",
    "    'Precision': precision_score(y_val, y_pred_class_lstm_original, average='macro'),\n",
    "    'Recall': recall_score(y_val, y_pred_class_lstm_original, average='macro'),\n",
    "    'F1 Score': f1_score(y_val, y_pred_class_lstm_original, average='macro'),\n",
    "    'ROC AUC': roc_auc_score(y_val, y_pred_prob_lstm_original, multi_class='ovr')\n",
    "}\n",
    "\n",
    "# --- Plotting only LSTM metrics ---\n",
    "plt.figure(figsize=(10, 5))\n",
    "plt.bar(lstm_original_metrics.keys(), lstm_original_metrics.values(), color='skyblue')\n",
    "plt.ylim(0, 1)\n",
    "plt.title('LSTM Evaluation Metrics')\n",
    "plt.ylabel('Score')\n",
    "for i, v in enumerate(lstm_original_metrics.values()):\n",
    "    plt.text(i, v + 0.02, f\"{v:.2f}\", ha='center', fontweight='bold')\n",
    "plt.grid(axis='y', linestyle='--', alpha=0.7)\n",
    "plt.show()"
   ]
  },
  {
   "cell_type": "code",
   "execution_count": 26,
   "id": "ca922485",
   "metadata": {
    "execution": {
     "iopub.execute_input": "2025-05-04T21:16:55.063500Z",
     "iopub.status.busy": "2025-05-04T21:16:55.063237Z",
     "iopub.status.idle": "2025-05-04T21:16:55.520800Z",
     "shell.execute_reply": "2025-05-04T21:16:55.520055Z"
    },
    "id": "Dd3S241ErFbO",
    "papermill": {
     "duration": 0.703759,
     "end_time": "2025-05-04T21:16:55.522258",
     "exception": false,
     "start_time": "2025-05-04T21:16:54.818499",
     "status": "completed"
    },
    "tags": []
   },
   "outputs": [
    {
     "data": {
      "image/png": "[encoded data removed]",
      "text/plain": [
       "<Figure size 1000x500 with 1 Axes>"
      ]
     },
     "metadata": {},
     "output_type": "display_data"
    }
   ],
   "source": [
    "# --- Plotting LSTM loss curve ---\n",
    "plt.figure(figsize=(10, 5))\n",
    "plt.plot(history_original.history['loss'], label='Train Loss', marker='o')\n",
    "plt.plot(history_original.history['val_loss'], label='Validation Loss', marker='x')\n",
    "plt.title('LSTM Loss Curve')\n",
    "plt.xlabel('Epochs')\n",
    "plt.ylabel('Loss')\n",
    "plt.legend()\n",
    "plt.grid(True)\n",
    "plt.show()"
   ]
  },
  {
   "cell_type": "markdown",
   "id": "eb421d48",
   "metadata": {
    "id": "W67m41mxHsHn",
    "papermill": {
     "duration": 0.240343,
     "end_time": "2025-05-04T21:16:56.055868",
     "exception": false,
     "start_time": "2025-05-04T21:16:55.815525",
     "status": "completed"
    },
    "tags": []
   },
   "source": [
    "# **5. Logistic Regression Implementation**"
   ]
  },
  {
   "cell_type": "code",
   "execution_count": 27,
   "id": "c86c09ea",
   "metadata": {
    "execution": {
     "iopub.execute_input": "2025-05-04T21:16:56.549513Z",
     "iopub.status.busy": "2025-05-04T21:16:56.548973Z",
     "iopub.status.idle": "2025-05-04T21:16:57.031731Z",
     "shell.execute_reply": "2025-05-04T21:16:57.029873Z"
    },
    "id": "grb9l9HAHwRK",
    "papermill": {
     "duration": 0.732104,
     "end_time": "2025-05-04T21:16:57.033170",
     "exception": false,
     "start_time": "2025-05-04T21:16:56.301066",
     "status": "completed"
    },
    "tags": []
   },
   "outputs": [
    {
     "name": "stdout",
     "output_type": "stream",
     "text": [
      "Logistic Regression Evaluation:\n",
      "              precision    recall  f1-score   support\n",
      "\n",
      "           0       0.00      0.00      0.00       171\n",
      "           1       0.27      0.98      0.42       266\n",
      "           2       0.00      0.00      0.00       285\n",
      "           3       0.21      0.03      0.05       277\n",
      "\n",
      "    accuracy                           0.27       999\n",
      "   macro avg       0.12      0.25      0.12       999\n",
      "weighted avg       0.13      0.27      0.12       999\n",
      "\n",
      "Accuracy: 0.2673\n",
      "Precision: 0.1188\n",
      "Recall: 0.2507\n",
      "F1 Score: 0.1169\n",
      "ROC AUC: 0.5126\n"
     ]
    },
    {
     "name": "stderr",
     "output_type": "stream",
     "text": [
      "/usr/local/lib/python3.11/dist-packages/sklearn/linear_model/_logistic.py:458: ConvergenceWarning: lbfgs failed to converge (status=1):\n",
      "STOP: TOTAL NO. OF ITERATIONS REACHED LIMIT.\n",
      "\n",
      "Increase the number of iterations (max_iter) or scale the data as shown in:\n",
      "    https://scikit-learn.org/stable/modules/preprocessing.html\n",
      "Please also refer to the documentation for alternative solver options:\n",
      "    https://scikit-learn.org/stable/modules/linear_model.html#logistic-regression\n",
      "  n_iter_i = _check_optimize_result(\n",
      "/usr/local/lib/python3.11/dist-packages/sklearn/metrics/_classification.py:1344: UndefinedMetricWarning: Precision and F-score are ill-defined and being set to 0.0 in labels with no predicted samples. Use `zero_division` parameter to control this behavior.\n",
      "  _warn_prf(average, modifier, msg_start, len(result))\n",
      "/usr/local/lib/python3.11/dist-packages/sklearn/metrics/_classification.py:1344: UndefinedMetricWarning: Precision and F-score are ill-defined and being set to 0.0 in labels with no predicted samples. Use `zero_division` parameter to control this behavior.\n",
      "  _warn_prf(average, modifier, msg_start, len(result))\n",
      "/usr/local/lib/python3.11/dist-packages/sklearn/metrics/_classification.py:1344: UndefinedMetricWarning: Precision and F-score are ill-defined and being set to 0.0 in labels with no predicted samples. Use `zero_division` parameter to control this behavior.\n",
      "  _warn_prf(average, modifier, msg_start, len(result))\n",
      "/usr/local/lib/python3.11/dist-packages/sklearn/metrics/_classification.py:1344: UndefinedMetricWarning: Precision is ill-defined and being set to 0.0 in labels with no predicted samples. Use `zero_division` parameter to control this behavior.\n",
      "  _warn_prf(average, modifier, msg_start, len(result))\n"
     ]
    }
   ],
   "source": [
    "# Initialize the Logistic Regression model\n",
    "lr_model_original = LogisticRegression(random_state=42, max_iter=5, verbose=1)\n",
    "\n",
    "# Train the model\n",
    "lr_model_original.fit(X_train, y_train)\n",
    "\n",
    "# Predict\n",
    "y_pred_lr_original = lr_model_original.predict(X_val)\n",
    "\n",
    "# Evaluation\n",
    "print(\"Logistic Regression Evaluation:\")\n",
    "print(classification_report(y_val, y_pred_lr_original))\n",
    "print(f\"Accuracy: {accuracy_score(y_val, y_pred_lr_original):.4f}\")\n",
    "print(f\"Precision: {precision_score(y_val, y_pred_lr_original, average='macro'):.4f}\")\n",
    "print(f\"Recall: {recall_score(y_val, y_pred_lr_original, average='macro'):.4f}\")\n",
    "print(f\"F1 Score: {f1_score(y_val, y_pred_lr_original, average='macro'):.4f}\")\n",
    "print(f\"ROC AUC: {roc_auc_score(y_val, lr_model_original.predict_proba(X_val), multi_class='ovr'):.4f}\")"
   ]
  },
  {
   "cell_type": "code",
   "execution_count": 28,
   "id": "7ca8b233",
   "metadata": {
    "execution": {
     "iopub.execute_input": "2025-05-04T21:16:57.635943Z",
     "iopub.status.busy": "2025-05-04T21:16:57.635420Z",
     "iopub.status.idle": "2025-05-04T21:16:57.786104Z",
     "shell.execute_reply": "2025-05-04T21:16:57.785382Z"
    },
    "id": "dtNaQC1WrfqV",
    "papermill": {
     "duration": 0.461821,
     "end_time": "2025-05-04T21:16:57.787620",
     "exception": false,
     "start_time": "2025-05-04T21:16:57.325799",
     "status": "completed"
    },
    "tags": []
   },
   "outputs": [
    {
     "name": "stderr",
     "output_type": "stream",
     "text": [
      "/usr/local/lib/python3.11/dist-packages/sklearn/metrics/_classification.py:1344: UndefinedMetricWarning: Precision is ill-defined and being set to 0.0 in labels with no predicted samples. Use `zero_division` parameter to control this behavior.\n",
      "  _warn_prf(average, modifier, msg_start, len(result))\n"
     ]
    },
    {
     "data": {
      "image/png": "[encoded data removed]",
      "text/plain": [
       "<Figure size 1000x500 with 1 Axes>"
      ]
     },
     "metadata": {},
     "output_type": "display_data"
    }
   ],
   "source": [
    "# Logistic Regression Original metrics\n",
    "lr_original_metrics = {\n",
    "    'Accuracy': accuracy_score(y_val, y_pred_lr_original),\n",
    "    'Precision': precision_score(y_val, y_pred_lr_original, average='macro'),\n",
    "    'Recall': recall_score(y_val, y_pred_lr_original, average='macro'),\n",
    "    'F1 Score': f1_score(y_val, y_pred_lr_original, average='macro'),\n",
    "    'ROC AUC': roc_auc_score(y_val, lr_model_original.predict_proba(X_val), multi_class='ovr')\n",
    "}\n",
    "\n",
    "# --- Plotting only Original Logistic Regression metrics ---\n",
    "plt.figure(figsize=(10, 5))\n",
    "plt.bar(lr_original_metrics.keys(), lr_original_metrics.values(), color='cornflowerblue')\n",
    "plt.ylim(0, 1)\n",
    "plt.title('Original Logistic Regression Evaluation Metrics')\n",
    "plt.ylabel('Score')\n",
    "for i, v in enumerate(lr_original_metrics.values()):\n",
    "    plt.text(i, v + 0.02, f\"{v:.2f}\", ha='center', fontweight='bold')\n",
    "plt.grid(axis='y', linestyle='--', alpha=0.7)\n",
    "plt.show()"
   ]
  },
  {
   "cell_type": "markdown",
   "id": "70b6b6ab",
   "metadata": {
    "id": "eD_mcDP4M0nl",
    "papermill": {
     "duration": 0.245631,
     "end_time": "2025-05-04T21:16:58.289767",
     "exception": false,
     "start_time": "2025-05-04T21:16:58.044136",
     "status": "completed"
    },
    "tags": []
   },
   "source": [
    "# **6. Optimize MLP with Genetic Algorithm**"
   ]
  },
  {
   "cell_type": "code",
   "execution_count": 29,
   "id": "b70a88c7",
   "metadata": {
    "execution": {
     "iopub.execute_input": "2025-05-04T21:16:58.816877Z",
     "iopub.status.busy": "2025-05-04T21:16:58.816610Z",
     "iopub.status.idle": "2025-05-04T21:20:45.253392Z",
     "shell.execute_reply": "2025-05-04T21:20:45.252494Z"
    },
    "id": "KRzQo0TeM3a7",
    "papermill": {
     "duration": 226.960561,
     "end_time": "2025-05-04T21:20:45.500139",
     "exception": false,
     "start_time": "2025-05-04T21:16:58.539578",
     "status": "completed"
    },
    "tags": []
   },
   "outputs": [
    {
     "name": "stderr",
     "output_type": "stream",
     "text": [
      "/usr/local/lib/python3.11/dist-packages/sklearn/neural_network/_multilayer_perceptron.py:686: ConvergenceWarning: Stochastic Optimizer: Maximum iterations (5) reached and the optimization hasn't converged yet.\n",
      "  warnings.warn(\n",
      "/usr/local/lib/python3.11/dist-packages/sklearn/neural_network/_multilayer_perceptron.py:686: ConvergenceWarning: Stochastic Optimizer: Maximum iterations (5) reached and the optimization hasn't converged yet.\n",
      "  warnings.warn(\n",
      "/usr/local/lib/python3.11/dist-packages/sklearn/neural_network/_multilayer_perceptron.py:686: ConvergenceWarning: Stochastic Optimizer: Maximum iterations (5) reached and the optimization hasn't converged yet.\n",
      "  warnings.warn(\n",
      "/usr/local/lib/python3.11/dist-packages/sklearn/neural_network/_multilayer_perceptron.py:686: ConvergenceWarning: Stochastic Optimizer: Maximum iterations (5) reached and the optimization hasn't converged yet.\n",
      "  warnings.warn(\n",
      "/usr/local/lib/python3.11/dist-packages/sklearn/neural_network/_multilayer_perceptron.py:686: ConvergenceWarning: Stochastic Optimizer: Maximum iterations (5) reached and the optimization hasn't converged yet.\n",
      "  warnings.warn(\n"
     ]
    },
    {
     "name": "stdout",
     "output_type": "stream",
     "text": [
      "gen\tnevals\n",
      "0  \t5     \n"
     ]
    },
    {
     "name": "stderr",
     "output_type": "stream",
     "text": [
      "/usr/local/lib/python3.11/dist-packages/sklearn/neural_network/_multilayer_perceptron.py:686: ConvergenceWarning: Stochastic Optimizer: Maximum iterations (5) reached and the optimization hasn't converged yet.\n",
      "  warnings.warn(\n",
      "/usr/local/lib/python3.11/dist-packages/sklearn/neural_network/_multilayer_perceptron.py:686: ConvergenceWarning: Stochastic Optimizer: Maximum iterations (5) reached and the optimization hasn't converged yet.\n",
      "  warnings.warn(\n",
      "/usr/local/lib/python3.11/dist-packages/sklearn/neural_network/_multilayer_perceptron.py:686: ConvergenceWarning: Stochastic Optimizer: Maximum iterations (5) reached and the optimization hasn't converged yet.\n",
      "  warnings.warn(\n",
      "/usr/local/lib/python3.11/dist-packages/sklearn/neural_network/_multilayer_perceptron.py:686: ConvergenceWarning: Stochastic Optimizer: Maximum iterations (5) reached and the optimization hasn't converged yet.\n",
      "  warnings.warn(\n"
     ]
    },
    {
     "name": "stdout",
     "output_type": "stream",
     "text": [
      "1  \t4     \n",
      "Best MLP params: [0.2539974083586335, 0.35320831366329597, 0.4045022121617694, 0.9441092134845505]\n",
      "\n",
      "MLP Classification Report:\n",
      "\n",
      "              precision    recall  f1-score   support\n",
      "\n",
      "           0       0.93      0.94      0.93       171\n",
      "           1       0.95      0.97      0.96       266\n",
      "           2       0.95      0.94      0.94       285\n",
      "           3       0.94      0.92      0.93       277\n",
      "\n",
      "    accuracy                           0.94       999\n",
      "   macro avg       0.94      0.94      0.94       999\n",
      "weighted avg       0.94      0.94      0.94       999\n",
      "\n"
     ]
    },
    {
     "name": "stderr",
     "output_type": "stream",
     "text": [
      "/usr/local/lib/python3.11/dist-packages/sklearn/neural_network/_multilayer_perceptron.py:686: ConvergenceWarning: Stochastic Optimizer: Maximum iterations (5) reached and the optimization hasn't converged yet.\n",
      "  warnings.warn(\n"
     ]
    }
   ],
   "source": [
    "# Genetic Algorithm setup\n",
    "creator.create(\"FitnessMax\", base.Fitness, weights=(1.0,))\n",
    "creator.create(\"Individual\", list, fitness=creator.FitnessMax)\n",
    "\n",
    "toolbox = base.Toolbox()\n",
    "toolbox.register(\"attr_float\", np.random.rand)  # Random float [0,1]\n",
    "toolbox.register(\"individual\", tools.initRepeat, creator.Individual, toolbox.attr_float, 4)  # 4 hyperparameters\n",
    "toolbox.register(\"population\", tools.initRepeat, list, toolbox.individual)\n",
    "\n",
    "# Evaluation function\n",
    "def eval_mlp(individual):\n",
    "    hidden_layer_sizes = int(individual[0] * 100) + 10\n",
    "    alpha = individual[1] * 0.1\n",
    "    learning_rate_init = individual[2] * 0.01\n",
    "\n",
    "    model = MLPClassifier(\n",
    "        hidden_layer_sizes=(hidden_layer_sizes,),\n",
    "        alpha=alpha,\n",
    "        learning_rate_init=learning_rate_init,\n",
    "        max_iter=5,\n",
    "        random_state=42,\n",
    "        verbose=False\n",
    "    )\n",
    "    model.fit(X_train, y_train)\n",
    "    y_pred = model.predict(X_val)\n",
    "\n",
    "    accuracy = accuracy_score(y_val, y_pred)\n",
    "\n",
    "    return (accuracy,)\n",
    "\n",
    "toolbox.register(\"evaluate\", eval_mlp)\n",
    "toolbox.register(\"mate\", tools.cxBlend, alpha=0.5)\n",
    "toolbox.register(\"mutate\", tools.mutPolynomialBounded, eta=0.5, low=0.0, up=1.0, indpb=0.2)\n",
    "toolbox.register(\"select\", tools.selTournament, tournsize=3)\n",
    "\n",
    "# Parameters\n",
    "population = toolbox.population(n=5)\n",
    "NGEN = 1\n",
    "hof = tools.HallOfFame(1)\n",
    "\n",
    "algorithms.eaSimple(population, toolbox, cxpb=0.7, mutpb=0.2, ngen=NGEN, halloffame=hof, verbose=True)\n",
    "\n",
    "# Best model\n",
    "best_params = hof[0]\n",
    "print(\"Best MLP params:\", best_params)\n",
    "\n",
    "hidden_layer_sizes = int(best_params[0] * 100) + 10\n",
    "alpha = best_params[1] * 0.1\n",
    "learning_rate_init = best_params[2] * 0.01\n",
    "\n",
    "mlp_model_optimized = MLPClassifier(\n",
    "    hidden_layer_sizes=(hidden_layer_sizes,),\n",
    "    alpha=alpha,\n",
    "    learning_rate_init=learning_rate_init,\n",
    "    max_iter=5,\n",
    "    random_state=42\n",
    ")\n",
    "mlp_model_optimized.fit(X_train, y_train)\n",
    "y_pred_mlp_optimized = mlp_model_optimized.predict(X_val)\n",
    "\n",
    "print(\"\\nMLP Classification Report:\\n\")\n",
    "print(classification_report(y_val, y_pred_mlp_optimized))"
   ]
  },
  {
   "cell_type": "code",
   "execution_count": 30,
   "id": "d6791beb",
   "metadata": {
    "execution": {
     "iopub.execute_input": "2025-05-04T21:20:46.046066Z",
     "iopub.status.busy": "2025-05-04T21:20:46.045797Z",
     "iopub.status.idle": "2025-05-04T21:20:46.194671Z",
     "shell.execute_reply": "2025-05-04T21:20:46.193889Z"
    },
    "id": "nObpCoFEYhEK",
    "papermill": {
     "duration": 0.399562,
     "end_time": "2025-05-04T21:20:46.195803",
     "exception": false,
     "start_time": "2025-05-04T21:20:45.796241",
     "status": "completed"
    },
    "tags": []
   },
   "outputs": [
    {
     "data": {
      "image/png": "[encoded data removed]",
      "text/plain": [
       "<Figure size 1000x500 with 1 Axes>"
      ]
     },
     "metadata": {},
     "output_type": "display_data"
    }
   ],
   "source": [
    "# Optimized MLP Metrics\n",
    "mlp_optimized_metrics = {\n",
    "    'Accuracy': accuracy_score(y_val, y_pred_mlp_optimized),\n",
    "    'Precision': precision_score(y_val, y_pred_mlp_optimized, average='macro'),\n",
    "    'Recall': recall_score(y_val, y_pred_mlp_optimized, average='macro'),\n",
    "    'F1 Score': f1_score(y_val, y_pred_mlp_optimized, average='macro'),\n",
    "    'ROC AUC': roc_auc_score(y_val, mlp_model_optimized.predict_proba(X_val), multi_class='ovr')\n",
    "}\n",
    "\n",
    "# --- Plotting only optimized metrics ---\n",
    "plt.figure(figsize=(10, 5))\n",
    "plt.bar(mlp_optimized_metrics.keys(), mlp_optimized_metrics.values(), color='lightgreen')\n",
    "plt.ylim(0, 1)\n",
    "plt.title('Optimized MLP Evaluation Metrics')\n",
    "plt.ylabel('Score')\n",
    "for i, v in enumerate(mlp_optimized_metrics.values()):\n",
    "    plt.text(i, v + 0.02, f\"{v:.2f}\", ha='center', fontweight='bold')\n",
    "plt.grid(axis='y', linestyle='--', alpha=0.7)\n",
    "plt.show()"
   ]
  },
  {
   "cell_type": "code",
   "execution_count": 31,
   "id": "679bf2da",
   "metadata": {
    "execution": {
     "iopub.execute_input": "2025-05-04T21:20:46.690658Z",
     "iopub.status.busy": "2025-05-04T21:20:46.690377Z",
     "iopub.status.idle": "2025-05-04T21:20:46.849920Z",
     "shell.execute_reply": "2025-05-04T21:20:46.849208Z"
    },
    "id": "mElezzUOYnHU",
    "papermill": {
     "duration": 0.407842,
     "end_time": "2025-05-04T21:20:46.851240",
     "exception": false,
     "start_time": "2025-05-04T21:20:46.443398",
     "status": "completed"
    },
    "tags": []
   },
   "outputs": [
    {
     "data": {
      "image/png": "[encoded data removed]",
      "text/plain": [
       "<Figure size 1000x500 with 1 Axes>"
      ]
     },
     "metadata": {},
     "output_type": "display_data"
    }
   ],
   "source": [
    "# --- Plotting optimized loss curve ---\n",
    "plt.figure(figsize=(10, 5))\n",
    "plt.plot(mlp_model_optimized.loss_curve_, marker='s', color='seagreen')\n",
    "plt.title('Optimized MLP Loss Curve')\n",
    "plt.xlabel('Iterations')\n",
    "plt.ylabel('Loss')\n",
    "plt.grid(True)\n",
    "plt.show()"
   ]
  },
  {
   "cell_type": "markdown",
   "id": "fca56bb6",
   "metadata": {
    "id": "e_0IRndcQcDc",
    "papermill": {
     "duration": 0.296834,
     "end_time": "2025-05-04T21:20:47.406581",
     "exception": false,
     "start_time": "2025-05-04T21:20:47.109747",
     "status": "completed"
    },
    "tags": []
   },
   "source": [
    "# **7. Optimize LSTM with Genetic Algorithm**"
   ]
  },
  {
   "cell_type": "code",
   "execution_count": 32,
   "id": "05e07a9e",
   "metadata": {
    "execution": {
     "iopub.execute_input": "2025-05-04T21:20:47.907142Z",
     "iopub.status.busy": "2025-05-04T21:20:47.906576Z",
     "iopub.status.idle": "2025-05-04T21:35:14.406193Z",
     "shell.execute_reply": "2025-05-04T21:35:14.405448Z"
    },
    "id": "TQNwJFboQeeX",
    "papermill": {
     "duration": 866.7692,
     "end_time": "2025-05-04T21:35:14.424481",
     "exception": false,
     "start_time": "2025-05-04T21:20:47.655281",
     "status": "completed"
    },
    "tags": []
   },
   "outputs": [
    {
     "name": "stderr",
     "output_type": "stream",
     "text": [
      "/usr/local/lib/python3.11/dist-packages/keras/src/layers/core/embedding.py:90: UserWarning: Argument `input_length` is deprecated. Just remove it.\n",
      "  warnings.warn(\n",
      "I0000 00:00:1746393650.080357      68 cuda_dnn.cc:529] Loaded cuDNN version 90300\n"
     ]
    },
    {
     "name": "stdout",
     "output_type": "stream",
     "text": [
      "gen\tnevals\n",
      "0  \t5     \n",
      "1  \t5     \n",
      "Best LSTM params: [0.515192246911611, 1.192076365837299]\n",
      "\u001b[1m32/32\u001b[0m \u001b[32m━━━━━━━━━━━━━━━━━━━━\u001b[0m\u001b[37m\u001b[0m \u001b[1m0s\u001b[0m 8ms/step\n",
      "\n",
      "LSTM Classification Report:\n",
      "\n",
      "              precision    recall  f1-score   support\n",
      "\n",
      "           0       0.00      0.00      0.00       171\n",
      "           1       0.00      0.00      0.00       266\n",
      "           2       0.00      0.00      0.00       285\n",
      "           3       0.28      1.00      0.43       277\n",
      "\n",
      "    accuracy                           0.28       999\n",
      "   macro avg       0.07      0.25      0.11       999\n",
      "weighted avg       0.08      0.28      0.12       999\n",
      "\n",
      "Accuracy: 0.2773\n",
      "Precision (Macro): 0.0693\n",
      "Recall (Macro): 0.2500\n",
      "F1 Score (Macro): 0.1085\n",
      "ROC AUC: 0.5000\n"
     ]
    },
    {
     "name": "stderr",
     "output_type": "stream",
     "text": [
      "/usr/local/lib/python3.11/dist-packages/sklearn/metrics/_classification.py:1344: UndefinedMetricWarning: Precision and F-score are ill-defined and being set to 0.0 in labels with no predicted samples. Use `zero_division` parameter to control this behavior.\n",
      "  _warn_prf(average, modifier, msg_start, len(result))\n",
      "/usr/local/lib/python3.11/dist-packages/sklearn/metrics/_classification.py:1344: UndefinedMetricWarning: Precision and F-score are ill-defined and being set to 0.0 in labels with no predicted samples. Use `zero_division` parameter to control this behavior.\n",
      "  _warn_prf(average, modifier, msg_start, len(result))\n",
      "/usr/local/lib/python3.11/dist-packages/sklearn/metrics/_classification.py:1344: UndefinedMetricWarning: Precision and F-score are ill-defined and being set to 0.0 in labels with no predicted samples. Use `zero_division` parameter to control this behavior.\n",
      "  _warn_prf(average, modifier, msg_start, len(result))\n",
      "/usr/local/lib/python3.11/dist-packages/sklearn/metrics/_classification.py:1344: UndefinedMetricWarning: Precision is ill-defined and being set to 0.0 in labels with no predicted samples. Use `zero_division` parameter to control this behavior.\n",
      "  _warn_prf(average, modifier, msg_start, len(result))\n"
     ]
    }
   ],
   "source": [
    "# Number of classes\n",
    "n_classes = len(np.unique(y_train))\n",
    "\n",
    "# Genetic Algorithm setup for LSTM\n",
    "creator.create(\"FitnessMaxLSTM\", base.Fitness, weights=(1.0,))\n",
    "creator.create(\"IndividualLSTM\", list, fitness=creator.FitnessMaxLSTM)\n",
    "\n",
    "toolbox_lstm = base.Toolbox()\n",
    "toolbox_lstm.register(\"attr_float\", np.random.rand)\n",
    "toolbox_lstm.register(\"individual\", tools.initRepeat, creator.IndividualLSTM, toolbox_lstm.attr_float, 2)  # Only 2 hyperparameters now\n",
    "toolbox_lstm.register(\"population\", tools.initRepeat, list, toolbox_lstm.individual)\n",
    "\n",
    "# Evaluation function\n",
    "def eval_lstm(individual):\n",
    "    lstm_units = int(individual[0] * 100) + 10\n",
    "    learning_rate = individual[1] * 0.01\n",
    "    fixed_epochs = 5  # Fixed to 5\n",
    "\n",
    "    model = Sequential([\n",
    "        Embedding(input_dim=5000, output_dim=64, input_length=X_train_pad.shape[1]),\n",
    "        LSTM(lstm_units),\n",
    "        Dense(n_classes, activation='softmax')\n",
    "    ])\n",
    "    model.compile(optimizer=Adam(learning_rate=learning_rate), loss='sparse_categorical_crossentropy', metrics=['accuracy'])\n",
    "    model.fit(X_train_pad, y_train, epochs=fixed_epochs, batch_size=32, verbose=0)\n",
    "\n",
    "    loss, accuracy = model.evaluate(X_val_pad, y_val, verbose=0)\n",
    "    return (accuracy,)\n",
    "\n",
    "toolbox_lstm.register(\"evaluate\", eval_lstm)\n",
    "toolbox_lstm.register(\"mate\", tools.cxBlend, alpha=0.5)\n",
    "toolbox_lstm.register(\"mutate\", tools.mutPolynomialBounded, eta=0.5, low=0.0, up=1.0, indpb=0.2)\n",
    "toolbox_lstm.register(\"select\", tools.selTournament, tournsize=3)\n",
    "\n",
    "# GA Parameters\n",
    "population_lstm = toolbox_lstm.population(n=5)\n",
    "NGEN = 1\n",
    "hof_lstm = tools.HallOfFame(1)\n",
    "\n",
    "# Run the Genetic Algorithm\n",
    "algorithms.eaSimple(population_lstm, toolbox_lstm, cxpb=0.7, mutpb=0.2, ngen=NGEN, halloffame=hof_lstm, verbose=True)\n",
    "\n",
    "# Best LSTM model\n",
    "best_params_lstm = hof_lstm[0]\n",
    "print(\"Best LSTM params:\", best_params_lstm)\n",
    "\n",
    "# Decode best params\n",
    "lstm_units = int(best_params_lstm[0] * 100) + 10\n",
    "learning_rate = best_params_lstm[1] * 0.01\n",
    "fixed_epochs = 5\n",
    "\n",
    "lstm_model_optimized_final = Sequential([\n",
    "    Embedding(input_dim=5000, output_dim=64, input_length=X_train_pad.shape[1]),\n",
    "    LSTM(lstm_units),\n",
    "    Dense(n_classes, activation='softmax')\n",
    "])\n",
    "lstm_model_optimized_final.compile(optimizer=Adam(learning_rate=learning_rate), loss='sparse_categorical_crossentropy', metrics=['accuracy'])\n",
    "\n",
    "# Train best model\n",
    "history_final = lstm_model_optimized_final.fit(\n",
    "    X_train_pad, y_train,\n",
    "    epochs=fixed_epochs,\n",
    "    batch_size=32,\n",
    "    verbose=0,\n",
    "    validation_data=(X_val_pad, y_val)  # << ADD THIS\n",
    ")\n",
    "\n",
    "# Predict probabilities\n",
    "y_pred_prob_lstm_optimized = lstm_model_optimized_final.predict(X_val_pad)\n",
    "\n",
    "# Convert probabilities to predicted class labels\n",
    "y_pred_lstm_optimized = np.argmax(y_pred_prob_lstm_optimized, axis=1)\n",
    "\n",
    "# Print the classification report\n",
    "print(\"\\nLSTM Classification Report:\\n\")\n",
    "print(classification_report(y_val, y_pred_lstm_optimized))\n",
    "\n",
    "# Print other evaluation metrics directly\n",
    "print(f\"Accuracy: {accuracy_score(y_val, y_pred_lstm_optimized):.4f}\")\n",
    "print(f\"Precision (Macro): {precision_score(y_val, y_pred_lstm_optimized, average='macro'):.4f}\")\n",
    "print(f\"Recall (Macro): {recall_score(y_val, y_pred_lstm_optimized, average='macro'):.4f}\")\n",
    "print(f\"F1 Score (Macro): {f1_score(y_val, y_pred_lstm_optimized, average='macro'):.4f}\")\n",
    "print(f\"ROC AUC: {roc_auc_score(y_val, y_pred_prob_lstm_optimized, multi_class='ovr'):.4f}\")"
   ]
  },
  {
   "cell_type": "code",
   "execution_count": 33,
   "id": "a68ee529",
   "metadata": {
    "execution": {
     "iopub.execute_input": "2025-05-04T21:35:14.913413Z",
     "iopub.status.busy": "2025-05-04T21:35:14.913136Z",
     "iopub.status.idle": "2025-05-04T21:35:15.054887Z",
     "shell.execute_reply": "2025-05-04T21:35:15.054145Z"
    },
    "id": "Nrhj00Ojq0qI",
    "papermill": {
     "duration": 0.387963,
     "end_time": "2025-05-04T21:35:15.056107",
     "exception": false,
     "start_time": "2025-05-04T21:35:14.668144",
     "status": "completed"
    },
    "tags": []
   },
   "outputs": [
    {
     "name": "stderr",
     "output_type": "stream",
     "text": [
      "/usr/local/lib/python3.11/dist-packages/sklearn/metrics/_classification.py:1344: UndefinedMetricWarning: Precision is ill-defined and being set to 0.0 in labels with no predicted samples. Use `zero_division` parameter to control this behavior.\n",
      "  _warn_prf(average, modifier, msg_start, len(result))\n"
     ]
    },
    {
     "data": {
      "image/png": "[encoded data removed]",
      "text/plain": [
       "<Figure size 1000x500 with 1 Axes>"
      ]
     },
     "metadata": {},
     "output_type": "display_data"
    }
   ],
   "source": [
    "# Optimized LSTM metrics\n",
    "lstm_optimized_metrics = {\n",
    "    'Accuracy': accuracy_score(y_val, y_pred_lstm_optimized),\n",
    "    'Precision': precision_score(y_val, y_pred_lstm_optimized, average='macro'),\n",
    "    'Recall': recall_score(y_val, y_pred_lstm_optimized, average='macro'),\n",
    "    'F1 Score': f1_score(y_val, y_pred_lstm_optimized, average='macro'),\n",
    "    'ROC AUC': roc_auc_score(to_categorical(y_val), y_pred_prob_lstm_optimized, multi_class='ovr')  # Use predicted probabilities for ROC AUC\n",
    "}\n",
    "\n",
    "# --- Plotting only Optimized LSTM metrics ---\n",
    "plt.figure(figsize=(10, 5))\n",
    "plt.bar(lstm_optimized_metrics.keys(), lstm_optimized_metrics.values(), color='lightgreen')\n",
    "plt.ylim(0, 1)\n",
    "plt.title('Optimized LSTM Evaluation Metrics')\n",
    "plt.ylabel('Score')\n",
    "for i, v in enumerate(lstm_optimized_metrics.values()):\n",
    "    plt.text(i, v + 0.02, f\"{v:.2f}\", ha='center', fontweight='bold')\n",
    "plt.grid(axis='y', linestyle='--', alpha=0.7)\n",
    "plt.show()"
   ]
  },
  {
   "cell_type": "code",
   "execution_count": 34,
   "id": "12160dd3",
   "metadata": {
    "execution": {
     "iopub.execute_input": "2025-05-04T21:35:15.599707Z",
     "iopub.status.busy": "2025-05-04T21:35:15.599447Z",
     "iopub.status.idle": "2025-05-04T21:35:15.775537Z",
     "shell.execute_reply": "2025-05-04T21:35:15.774851Z"
    },
    "id": "oVOv8-Yaq4Bz",
    "papermill": {
     "duration": 0.470777,
     "end_time": "2025-05-04T21:35:15.776895",
     "exception": false,
     "start_time": "2025-05-04T21:35:15.306118",
     "status": "completed"
    },
    "tags": []
   },
   "outputs": [
    {
     "data": {
      "image/png": "[encoded data removed]",
      "text/plain": [
       "<Figure size 1000x500 with 1 Axes>"
      ]
     },
     "metadata": {},
     "output_type": "display_data"
    }
   ],
   "source": [
    "# --- Plotting Optimized LSTM loss curve ---\n",
    "plt.figure(figsize=(10, 5))\n",
    "plt.plot(history_final.history['loss'], label='Train Loss', marker='o')\n",
    "plt.plot(history_final.history['val_loss'], label='Validation Loss', marker='x')\n",
    "plt.title('Optimized LSTM Loss Curve')\n",
    "plt.xlabel('Epochs')\n",
    "plt.ylabel('Loss')\n",
    "plt.legend()\n",
    "plt.grid(True)\n",
    "plt.show()"
   ]
  },
  {
   "cell_type": "markdown",
   "id": "05b58809",
   "metadata": {
    "id": "j4NI--z0QkLz",
    "papermill": {
     "duration": 0.251625,
     "end_time": "2025-05-04T21:35:16.284853",
     "exception": false,
     "start_time": "2025-05-04T21:35:16.033228",
     "status": "completed"
    },
    "tags": []
   },
   "source": [
    "# **8. Optimize LR with Genetic Algorithm**"
   ]
  },
  {
   "cell_type": "code",
   "execution_count": 35,
   "id": "fcd5cee2",
   "metadata": {
    "execution": {
     "iopub.execute_input": "2025-05-04T21:35:16.774751Z",
     "iopub.status.busy": "2025-05-04T21:35:16.774506Z",
     "iopub.status.idle": "2025-05-04T21:35:22.275675Z",
     "shell.execute_reply": "2025-05-04T21:35:22.274902Z"
    },
    "id": "GeVd5A0FQqQ1",
    "papermill": {
     "duration": 5.746915,
     "end_time": "2025-05-04T21:35:22.276805",
     "exception": false,
     "start_time": "2025-05-04T21:35:16.529890",
     "status": "completed"
    },
    "tags": []
   },
   "outputs": [
    {
     "name": "stderr",
     "output_type": "stream",
     "text": [
      "/usr/local/lib/python3.11/dist-packages/sklearn/svm/_base.py:1244: ConvergenceWarning: Liblinear failed to converge, increase the number of iterations.\n",
      "  warnings.warn(\n",
      "/usr/local/lib/python3.11/dist-packages/sklearn/metrics/_classification.py:1344: UndefinedMetricWarning: Precision is ill-defined and being set to 0.0 in labels with no predicted samples. Use `zero_division` parameter to control this behavior.\n",
      "  _warn_prf(average, modifier, msg_start, len(result))\n",
      "/usr/local/lib/python3.11/dist-packages/sklearn/metrics/_classification.py:1344: UndefinedMetricWarning: Precision and F-score are ill-defined and being set to 0.0 in labels with no predicted samples. Use `zero_division` parameter to control this behavior.\n",
      "  _warn_prf(average, modifier, msg_start, len(result))\n",
      "/usr/local/lib/python3.11/dist-packages/sklearn/metrics/_classification.py:1344: UndefinedMetricWarning: Precision and F-score are ill-defined and being set to 0.0 in labels with no predicted samples. Use `zero_division` parameter to control this behavior.\n",
      "  _warn_prf(average, modifier, msg_start, len(result))\n",
      "/usr/local/lib/python3.11/dist-packages/sklearn/metrics/_classification.py:1344: UndefinedMetricWarning: Precision and F-score are ill-defined and being set to 0.0 in labels with no predicted samples. Use `zero_division` parameter to control this behavior.\n",
      "  _warn_prf(average, modifier, msg_start, len(result))\n"
     ]
    },
    {
     "name": "stdout",
     "output_type": "stream",
     "text": [
      "Accuracy: 0.3423\n",
      "Precision: 0.4242\n",
      "Recall: 0.3169\n",
      "F1 Score: 0.2191\n",
      "              precision    recall  f1-score   support\n",
      "\n",
      "           0       0.00      0.00      0.00       171\n",
      "           1       0.33      0.83      0.47       266\n",
      "           2       1.00      0.00      0.01       285\n",
      "           3       0.37      0.43      0.40       277\n",
      "\n",
      "    accuracy                           0.34       999\n",
      "   macro avg       0.42      0.32      0.22       999\n",
      "weighted avg       0.47      0.34      0.24       999\n",
      "\n"
     ]
    },
    {
     "name": "stderr",
     "output_type": "stream",
     "text": [
      "/usr/local/lib/python3.11/dist-packages/sklearn/svm/_base.py:1244: ConvergenceWarning: Liblinear failed to converge, increase the number of iterations.\n",
      "  warnings.warn(\n"
     ]
    },
    {
     "name": "stdout",
     "output_type": "stream",
     "text": [
      "Accuracy: 0.9099\n",
      "Precision: 0.9102\n",
      "Recall: 0.9102\n",
      "F1 Score: 0.9095\n",
      "              precision    recall  f1-score   support\n",
      "\n",
      "           0       0.91      0.91      0.91       171\n",
      "           1       0.88      0.94      0.91       266\n",
      "           2       0.94      0.86      0.90       285\n",
      "           3       0.92      0.94      0.93       277\n",
      "\n",
      "    accuracy                           0.91       999\n",
      "   macro avg       0.91      0.91      0.91       999\n",
      "weighted avg       0.91      0.91      0.91       999\n",
      "\n"
     ]
    },
    {
     "name": "stderr",
     "output_type": "stream",
     "text": [
      "/usr/local/lib/python3.11/dist-packages/sklearn/svm/_base.py:1244: ConvergenceWarning: Liblinear failed to converge, increase the number of iterations.\n",
      "  warnings.warn(\n"
     ]
    },
    {
     "name": "stdout",
     "output_type": "stream",
     "text": [
      "Accuracy: 0.9610\n",
      "Precision: 0.9608\n",
      "Recall: 0.9609\n",
      "F1 Score: 0.9608\n",
      "              precision    recall  f1-score   support\n",
      "\n",
      "           0       0.96      0.96      0.96       171\n",
      "           1       0.96      0.97      0.97       266\n",
      "           2       0.97      0.96      0.96       285\n",
      "           3       0.95      0.96      0.95       277\n",
      "\n",
      "    accuracy                           0.96       999\n",
      "   macro avg       0.96      0.96      0.96       999\n",
      "weighted avg       0.96      0.96      0.96       999\n",
      "\n"
     ]
    },
    {
     "name": "stderr",
     "output_type": "stream",
     "text": [
      "/usr/local/lib/python3.11/dist-packages/sklearn/svm/_base.py:1244: ConvergenceWarning: Liblinear failed to converge, increase the number of iterations.\n",
      "  warnings.warn(\n"
     ]
    },
    {
     "name": "stdout",
     "output_type": "stream",
     "text": [
      "Accuracy: 0.9610\n",
      "Precision: 0.9613\n",
      "Recall: 0.9609\n",
      "F1 Score: 0.9611\n",
      "              precision    recall  f1-score   support\n",
      "\n",
      "           0       0.96      0.96      0.96       171\n",
      "           1       0.96      0.97      0.96       266\n",
      "           2       0.97      0.95      0.96       285\n",
      "           3       0.95      0.96      0.96       277\n",
      "\n",
      "    accuracy                           0.96       999\n",
      "   macro avg       0.96      0.96      0.96       999\n",
      "weighted avg       0.96      0.96      0.96       999\n",
      "\n"
     ]
    },
    {
     "name": "stderr",
     "output_type": "stream",
     "text": [
      "/usr/local/lib/python3.11/dist-packages/sklearn/svm/_base.py:1244: ConvergenceWarning: Liblinear failed to converge, increase the number of iterations.\n",
      "  warnings.warn(\n",
      "/usr/local/lib/python3.11/dist-packages/sklearn/metrics/_classification.py:1344: UndefinedMetricWarning: Precision is ill-defined and being set to 0.0 in labels with no predicted samples. Use `zero_division` parameter to control this behavior.\n",
      "  _warn_prf(average, modifier, msg_start, len(result))\n",
      "/usr/local/lib/python3.11/dist-packages/sklearn/metrics/_classification.py:1344: UndefinedMetricWarning: Precision and F-score are ill-defined and being set to 0.0 in labels with no predicted samples. Use `zero_division` parameter to control this behavior.\n",
      "  _warn_prf(average, modifier, msg_start, len(result))\n",
      "/usr/local/lib/python3.11/dist-packages/sklearn/metrics/_classification.py:1344: UndefinedMetricWarning: Precision and F-score are ill-defined and being set to 0.0 in labels with no predicted samples. Use `zero_division` parameter to control this behavior.\n",
      "  _warn_prf(average, modifier, msg_start, len(result))\n",
      "/usr/local/lib/python3.11/dist-packages/sklearn/metrics/_classification.py:1344: UndefinedMetricWarning: Precision and F-score are ill-defined and being set to 0.0 in labels with no predicted samples. Use `zero_division` parameter to control this behavior.\n",
      "  _warn_prf(average, modifier, msg_start, len(result))\n"
     ]
    },
    {
     "name": "stdout",
     "output_type": "stream",
     "text": [
      "Accuracy: 0.3423\n",
      "Precision: 0.4242\n",
      "Recall: 0.3169\n",
      "F1 Score: 0.2191\n",
      "              precision    recall  f1-score   support\n",
      "\n",
      "           0       0.00      0.00      0.00       171\n",
      "           1       0.33      0.83      0.47       266\n",
      "           2       1.00      0.00      0.01       285\n",
      "           3       0.37      0.43      0.40       277\n",
      "\n",
      "    accuracy                           0.34       999\n",
      "   macro avg       0.42      0.32      0.22       999\n",
      "weighted avg       0.47      0.34      0.24       999\n",
      "\n",
      "gen\tnevals\n",
      "0  \t5     \n"
     ]
    },
    {
     "name": "stderr",
     "output_type": "stream",
     "text": [
      "/usr/local/lib/python3.11/dist-packages/sklearn/svm/_base.py:1244: ConvergenceWarning: Liblinear failed to converge, increase the number of iterations.\n",
      "  warnings.warn(\n"
     ]
    },
    {
     "name": "stdout",
     "output_type": "stream",
     "text": [
      "Accuracy: 0.9610\n",
      "Precision: 0.9608\n",
      "Recall: 0.9609\n",
      "F1 Score: 0.9608\n",
      "              precision    recall  f1-score   support\n",
      "\n",
      "           0       0.96      0.96      0.96       171\n",
      "           1       0.96      0.97      0.97       266\n",
      "           2       0.97      0.96      0.96       285\n",
      "           3       0.95      0.96      0.95       277\n",
      "\n",
      "    accuracy                           0.96       999\n",
      "   macro avg       0.96      0.96      0.96       999\n",
      "weighted avg       0.96      0.96      0.96       999\n",
      "\n"
     ]
    },
    {
     "name": "stderr",
     "output_type": "stream",
     "text": [
      "/usr/local/lib/python3.11/dist-packages/sklearn/svm/_base.py:1244: ConvergenceWarning: Liblinear failed to converge, increase the number of iterations.\n",
      "  warnings.warn(\n"
     ]
    },
    {
     "name": "stdout",
     "output_type": "stream",
     "text": [
      "Accuracy: 0.9610\n",
      "Precision: 0.9608\n",
      "Recall: 0.9609\n",
      "F1 Score: 0.9608\n",
      "              precision    recall  f1-score   support\n",
      "\n",
      "           0       0.96      0.96      0.96       171\n",
      "           1       0.96      0.97      0.97       266\n",
      "           2       0.97      0.96      0.96       285\n",
      "           3       0.95      0.96      0.95       277\n",
      "\n",
      "    accuracy                           0.96       999\n",
      "   macro avg       0.96      0.96      0.96       999\n",
      "weighted avg       0.96      0.96      0.96       999\n",
      "\n"
     ]
    },
    {
     "name": "stderr",
     "output_type": "stream",
     "text": [
      "/usr/local/lib/python3.11/dist-packages/sklearn/svm/_base.py:1244: ConvergenceWarning: Liblinear failed to converge, increase the number of iterations.\n",
      "  warnings.warn(\n"
     ]
    },
    {
     "name": "stdout",
     "output_type": "stream",
     "text": [
      "Accuracy: 0.9610\n",
      "Precision: 0.9608\n",
      "Recall: 0.9609\n",
      "F1 Score: 0.9608\n",
      "              precision    recall  f1-score   support\n",
      "\n",
      "           0       0.96      0.96      0.96       171\n",
      "           1       0.96      0.97      0.97       266\n",
      "           2       0.97      0.96      0.96       285\n",
      "           3       0.95      0.96      0.95       277\n",
      "\n",
      "    accuracy                           0.96       999\n",
      "   macro avg       0.96      0.96      0.96       999\n",
      "weighted avg       0.96      0.96      0.96       999\n",
      "\n"
     ]
    },
    {
     "name": "stderr",
     "output_type": "stream",
     "text": [
      "/usr/local/lib/python3.11/dist-packages/sklearn/svm/_base.py:1244: ConvergenceWarning: Liblinear failed to converge, increase the number of iterations.\n",
      "  warnings.warn(\n"
     ]
    },
    {
     "name": "stdout",
     "output_type": "stream",
     "text": [
      "Accuracy: 0.9610\n",
      "Precision: 0.9608\n",
      "Recall: 0.9609\n",
      "F1 Score: 0.9608\n",
      "              precision    recall  f1-score   support\n",
      "\n",
      "           0       0.96      0.96      0.96       171\n",
      "           1       0.96      0.97      0.97       266\n",
      "           2       0.97      0.96      0.96       285\n",
      "           3       0.95      0.96      0.95       277\n",
      "\n",
      "    accuracy                           0.96       999\n",
      "   macro avg       0.96      0.96      0.96       999\n",
      "weighted avg       0.96      0.96      0.96       999\n",
      "\n",
      "1  \t4     \n",
      "Best Logistic Regression params: [0.7846038153195748, 0.49141796969446006]\n",
      "Optimized Logistic Regression Evaluation:\n",
      "              precision    recall  f1-score   support\n",
      "\n",
      "           0       0.96      0.96      0.96       171\n",
      "           1       0.96      0.97      0.97       266\n",
      "           2       0.97      0.96      0.96       285\n",
      "           3       0.95      0.96      0.95       277\n",
      "\n",
      "    accuracy                           0.96       999\n",
      "   macro avg       0.96      0.96      0.96       999\n",
      "weighted avg       0.96      0.96      0.96       999\n",
      "\n",
      "Accuracy: 0.9610\n",
      "Precision: 0.9608\n",
      "Recall: 0.9609\n",
      "F1 Score: 0.9608\n",
      "ROC AUC: 0.9941\n"
     ]
    },
    {
     "name": "stderr",
     "output_type": "stream",
     "text": [
      "/usr/local/lib/python3.11/dist-packages/sklearn/svm/_base.py:1244: ConvergenceWarning: Liblinear failed to converge, increase the number of iterations.\n",
      "  warnings.warn(\n"
     ]
    }
   ],
   "source": [
    "# Genetic Algorithm setup for Logistic Regression\n",
    "creator.create(\"FitnessMaxLR\", base.Fitness, weights=(1.0,))\n",
    "creator.create(\"IndividualLR\", list, fitness=creator.FitnessMaxLR)\n",
    "\n",
    "toolbox_lr = base.Toolbox()\n",
    "toolbox_lr.register(\"attr_float\", np.random.rand)\n",
    "toolbox_lr.register(\"individual\", tools.initRepeat, creator.IndividualLR, toolbox_lr.attr_float, 2)  # 2 hyperparameters: C, penalty\n",
    "toolbox_lr.register(\"population\", tools.initRepeat, list, toolbox_lr.individual)\n",
    "\n",
    "def eval_lr(individual):\n",
    "    C = individual[0] * 10 + 0.1  # range ~ [0.1, 10.1]\n",
    "    penalty = ['l1', 'l2'][int(round(individual[1]))]  # choose between l1 and l2\n",
    "\n",
    "    model = LogisticRegression(C=C, penalty=penalty, solver='liblinear', random_state=42, max_iter=5)\n",
    "    model.fit(X_train, y_train)\n",
    "    y_pred = model.predict(X_val)\n",
    "\n",
    "    accuracy = accuracy_score(y_val, y_pred)\n",
    "    precision = precision_score(y_val, y_pred, average='macro')\n",
    "    recall = recall_score(y_val, y_pred, average='macro')\n",
    "    f1 = f1_score(y_val, y_pred, average='macro')\n",
    "\n",
    "    print(f\"Accuracy: {accuracy:.4f}\")\n",
    "    print(f\"Precision: {precision:.4f}\")\n",
    "    print(f\"Recall: {recall:.4f}\")\n",
    "    print(f\"F1 Score: {f1:.4f}\")\n",
    "    print(classification_report(y_val, y_pred))\n",
    "\n",
    "    return (accuracy,)\n",
    "\n",
    "toolbox_lr.register(\"evaluate\", eval_lr)\n",
    "toolbox_lr.register(\"mate\", tools.cxBlend, alpha=0.5)\n",
    "toolbox_lr.register(\"mutate\", tools.mutPolynomialBounded, eta=0.5, low=0.0, up=1.0, indpb=0.2)\n",
    "toolbox_lr.register(\"select\", tools.selTournament, tournsize=3)\n",
    "\n",
    "# Update population size to 5 and ngen to 1 for a single generation with 5 combinations\n",
    "population_lr = toolbox_lr.population(n=5)  # Population size = 5\n",
    "hof_lr = tools.HallOfFame(1)\n",
    "\n",
    "algorithms.eaSimple(population_lr, toolbox_lr, cxpb=0.7, mutpb=0.2, ngen=1, halloffame=hof_lr, verbose=True)\n",
    "\n",
    "# Best Logistic Regression model\n",
    "best_params_lr = hof_lr[0]\n",
    "print(\"Best Logistic Regression params:\", best_params_lr)\n",
    "\n",
    "C = best_params_lr[0] * 10 + 0.1\n",
    "penalty = ['l1', 'l2'][int(round(best_params_lr[1]))]\n",
    "\n",
    "lr_model_optimized = LogisticRegression(C=C, penalty=penalty, solver='liblinear', random_state=42, max_iter=5)\n",
    "lr_model_optimized.fit(X_train, y_train)\n",
    "\n",
    "# Predict\n",
    "y_pred_lr_optimized = lr_model_optimized.predict(X_val)\n",
    "\n",
    "# Evaluation\n",
    "print(\"Optimized Logistic Regression Evaluation:\")\n",
    "print(classification_report(y_val, y_pred_lr_optimized))\n",
    "print(f\"Accuracy: {accuracy_score(y_val, y_pred_lr_optimized):.4f}\")\n",
    "print(f\"Precision: {precision_score(y_val, y_pred_lr_optimized, average='macro'):.4f}\")\n",
    "print(f\"Recall: {recall_score(y_val, y_pred_lr_optimized, average='macro'):.4f}\")\n",
    "print(f\"F1 Score: {f1_score(y_val, y_pred_lr_optimized, average='macro'):.4f}\")\n",
    "print(f\"ROC AUC: {roc_auc_score(y_val, lr_model_optimized.predict_proba(X_val), multi_class='ovr'):.4f}\")"
   ]
  },
  {
   "cell_type": "code",
   "execution_count": 36,
   "id": "728f55fc",
   "metadata": {
    "execution": {
     "iopub.execute_input": "2025-05-04T21:35:22.826505Z",
     "iopub.status.busy": "2025-05-04T21:35:22.825833Z",
     "iopub.status.idle": "2025-05-04T21:35:22.965158Z",
     "shell.execute_reply": "2025-05-04T21:35:22.964563Z"
    },
    "id": "h1mgW45TrqC2",
    "papermill": {
     "duration": 0.434172,
     "end_time": "2025-05-04T21:35:22.966351",
     "exception": false,
     "start_time": "2025-05-04T21:35:22.532179",
     "status": "completed"
    },
    "tags": []
   },
   "outputs": [
    {
     "data": {
      "image/png": "[encoded data removed]",
      "text/plain": [
       "<Figure size 1000x500 with 1 Axes>"
      ]
     },
     "metadata": {},
     "output_type": "display_data"
    }
   ],
   "source": [
    "# Optimized Logistic Regression metrics\n",
    "lr_optimized_metrics = {\n",
    "    'Accuracy': accuracy_score(y_val, y_pred_lr_optimized),\n",
    "    'Precision': precision_score(y_val, y_pred_lr_optimized, average='macro'),\n",
    "    'Recall': recall_score(y_val, y_pred_lr_optimized, average='macro'),\n",
    "    'F1 Score': f1_score(y_val, y_pred_lr_optimized, average='macro'),\n",
    "    'ROC AUC': roc_auc_score(y_val, lr_model_optimized.predict_proba(X_val), multi_class='ovr')\n",
    "}\n",
    "\n",
    "# --- Plotting only Optimized Logistic Regression metrics ---\n",
    "plt.figure(figsize=(10, 5))\n",
    "plt.bar(lr_optimized_metrics.keys(), lr_optimized_metrics.values(), color='mediumseagreen')\n",
    "plt.ylim(0, 1)\n",
    "plt.title('Optimized Logistic Regression Evaluation Metrics')\n",
    "plt.ylabel('Score')\n",
    "for i, v in enumerate(lr_optimized_metrics.values()):\n",
    "    plt.text(i, v + 0.02, f\"{v:.2f}\", ha='center', fontweight='bold')\n",
    "plt.grid(axis='y', linestyle='--', alpha=0.7)\n",
    "plt.show()"
   ]
  },
  {
   "cell_type": "markdown",
   "id": "6be721df",
   "metadata": {
    "id": "GhN1VTofoxOO",
    "papermill": {
     "duration": 0.248999,
     "end_time": "2025-05-04T21:35:23.468157",
     "exception": false,
     "start_time": "2025-05-04T21:35:23.219158",
     "status": "completed"
    },
    "tags": []
   },
   "source": [
    "# **9. Determining Which Model is Best Before and After Optimization**"
   ]
  },
  {
   "cell_type": "code",
   "execution_count": 37,
   "id": "29a65e1e",
   "metadata": {
    "execution": {
     "iopub.execute_input": "2025-05-04T21:35:23.958876Z",
     "iopub.status.busy": "2025-05-04T21:35:23.958213Z",
     "iopub.status.idle": "2025-05-04T21:35:24.016456Z",
     "shell.execute_reply": "2025-05-04T21:35:24.015593Z"
    },
    "id": "TUzeqQCLjS_r",
    "papermill": {
     "duration": 0.304827,
     "end_time": "2025-05-04T21:35:24.017506",
     "exception": false,
     "start_time": "2025-05-04T21:35:23.712679",
     "status": "completed"
    },
    "tags": []
   },
   "outputs": [
    {
     "name": "stderr",
     "output_type": "stream",
     "text": [
      "/usr/local/lib/python3.11/dist-packages/sklearn/metrics/_classification.py:1344: UndefinedMetricWarning: Precision is ill-defined and being set to 0.0 in labels with no predicted samples. Use `zero_division` parameter to control this behavior.\n",
      "  _warn_prf(average, modifier, msg_start, len(result))\n",
      "/usr/local/lib/python3.11/dist-packages/sklearn/metrics/_classification.py:1344: UndefinedMetricWarning: Precision is ill-defined and being set to 0.0 in labels with no predicted samples. Use `zero_division` parameter to control this behavior.\n",
      "  _warn_prf(average, modifier, msg_start, len(result))\n",
      "/usr/local/lib/python3.11/dist-packages/sklearn/metrics/_classification.py:1344: UndefinedMetricWarning: Precision is ill-defined and being set to 0.0 in labels with no predicted samples. Use `zero_division` parameter to control this behavior.\n",
      "  _warn_prf(average, modifier, msg_start, len(result))\n"
     ]
    }
   ],
   "source": [
    "# Define model names\n",
    "models = ['MLP (Orig)', 'MLP (Opt)', 'LSTM (Orig)', 'LSTM (Opt)', 'LogReg (Orig)', 'LogReg (Opt)']\n",
    "\n",
    "# Calculate metric scores\n",
    "metrics = {\n",
    "    'Accuracy': [accuracy_score(y_val, y_pred) for y_pred in [\n",
    "        y_pred_mlp_original, y_pred_mlp_optimized,\n",
    "        y_pred_class_lstm_original, y_pred_lstm_optimized,\n",
    "        y_pred_lr_original, y_pred_lr_optimized\n",
    "    ]],\n",
    "    'Precision': [precision_score(y_val, y_pred, average='macro') for y_pred in [\n",
    "        y_pred_mlp_original, y_pred_mlp_optimized,\n",
    "        y_pred_class_lstm_original, y_pred_lstm_optimized,\n",
    "        y_pred_lr_original, y_pred_lr_optimized\n",
    "    ]],\n",
    "    'Recall': [recall_score(y_val, y_pred, average='macro') for y_pred in [\n",
    "        y_pred_mlp_original, y_pred_mlp_optimized,\n",
    "        y_pred_class_lstm_original, y_pred_lstm_optimized,\n",
    "        y_pred_lr_original, y_pred_lr_optimized\n",
    "    ]],\n",
    "    'F1 Score': [f1_score(y_val, y_pred, average='macro') for y_pred in [\n",
    "        y_pred_mlp_original, y_pred_mlp_optimized,\n",
    "        y_pred_class_lstm_original, y_pred_lstm_optimized,\n",
    "        y_pred_lr_original, y_pred_lr_optimized\n",
    "    ]],\n",
    "    'ROC AUC': [\n",
    "        roc_auc_score(y_val, mlp_model_original.predict_proba(X_val), multi_class='ovr'),\n",
    "        roc_auc_score(y_val, mlp_model_optimized.predict_proba(X_val), multi_class='ovr'),\n",
    "        roc_auc_score(y_val, y_pred_prob_lstm_original, multi_class='ovr'),  # FIXED\n",
    "        roc_auc_score(y_val, y_pred_prob_lstm_optimized, multi_class='ovr'),  # FIXED\n",
    "        roc_auc_score(y_val, lr_model_original.predict_proba(X_val), multi_class='ovr'),\n",
    "        roc_auc_score(y_val, lr_model_optimized.predict_proba(X_val), multi_class='ovr')\n",
    "    ]\n",
    "}"
   ]
  },
  {
   "cell_type": "code",
   "execution_count": 38,
   "id": "b837b012",
   "metadata": {
    "execution": {
     "iopub.execute_input": "2025-05-04T21:35:24.575391Z",
     "iopub.status.busy": "2025-05-04T21:35:24.574715Z",
     "iopub.status.idle": "2025-05-04T21:35:25.280692Z",
     "shell.execute_reply": "2025-05-04T21:35:25.279942Z"
    },
    "id": "kTsy26wgjNa-",
    "papermill": {
     "duration": 0.957742,
     "end_time": "2025-05-04T21:35:25.283228",
     "exception": false,
     "start_time": "2025-05-04T21:35:24.325486",
     "status": "completed"
    },
    "tags": []
   },
   "outputs": [
    {
     "data": {
      "image/png": "[encoded data removed]",
      "text/plain": [
       "<Figure size 1600x1000 with 5 Axes>"
      ]
     },
     "metadata": {},
     "output_type": "display_data"
    }
   ],
   "source": [
    "# Create comparison plot with improved styling\n",
    "plt.figure(figsize=(16, 10))\n",
    "colors = ['#1f77b4', '#ff7f0e', '#2ca02c', '#d62728', '#9467bd']\n",
    "\n",
    "for i, (metric_name, scores) in enumerate(metrics.items()):\n",
    "    plt.subplot(2, 3, i+1)\n",
    "    bars = plt.bar(models, scores, color=colors)\n",
    "    plt.title(metric_name, fontsize=12, fontweight='bold')\n",
    "    plt.ylim(0, 1.1)\n",
    "    plt.xticks(rotation=45, ha='right')\n",
    "    plt.grid(axis='y', alpha=0.3)\n",
    "\n",
    "    # Add value labels on top of bars\n",
    "    for bar in bars:\n",
    "        height = bar.get_height()\n",
    "        plt.text(bar.get_x() + bar.get_width()/2., height,\n",
    "                 f'{height:.3f}',\n",
    "                 ha='center', va='bottom', fontsize=9)\n",
    "\n",
    "plt.tight_layout()\n",
    "plt.suptitle('Model Performance Comparison', y=1.02, fontsize=14, fontweight='bold')\n",
    "plt.show()"
   ]
  },
  {
   "cell_type": "code",
   "execution_count": 39,
   "id": "11309bef",
   "metadata": {
    "execution": {
     "iopub.execute_input": "2025-05-04T21:35:25.785468Z",
     "iopub.status.busy": "2025-05-04T21:35:25.784845Z",
     "iopub.status.idle": "2025-05-04T21:35:25.796292Z",
     "shell.execute_reply": "2025-05-04T21:35:25.795555Z"
    },
    "id": "JrELly2eo10C",
    "papermill": {
     "duration": 0.262481,
     "end_time": "2025-05-04T21:35:25.797355",
     "exception": false,
     "start_time": "2025-05-04T21:35:25.534874",
     "status": "completed"
    },
    "tags": []
   },
   "outputs": [
    {
     "name": "stdout",
     "output_type": "stream",
     "text": [
      "\n",
      "=== Best Model Analysis ===\n",
      "\n",
      "Original Models Ranking:\n",
      "              Model  Accuracy  F1 Score  ROC AUC\n",
      "                MLP  0.966967  0.967403 0.996934\n",
      "               LSTM  0.296296  0.173947 0.526022\n",
      "Logistic Regression  0.267267  0.116859 0.512618\n",
      "\n",
      "Optimized Models Ranking:\n",
      "              Model  Accuracy  F1 Score  ROC AUC\n",
      "Logistic Regression  0.960961  0.960815 0.994085\n",
      "                MLP  0.942943  0.942118 0.993928\n",
      "               LSTM  0.277277  0.108542 0.500000\n",
      "\n",
      "Overall Best Model: MLP (Orig) with accuracy: 0.9670\n"
     ]
    }
   ],
   "source": [
    "# Enhanced best model determination\n",
    "print(\"\\n=== Best Model Analysis ===\")\n",
    "\n",
    "# Original models comparison\n",
    "orig_results = pd.DataFrame({\n",
    "    'Model': ['MLP', 'LSTM', 'Logistic Regression'],\n",
    "    'Accuracy': metrics['Accuracy'][::2],\n",
    "    'F1 Score': metrics['F1 Score'][::2],\n",
    "    'ROC AUC': metrics['ROC AUC'][::2]\n",
    "})\n",
    "\n",
    "print(\"\\nOriginal Models Ranking:\")\n",
    "print(orig_results.sort_values('Accuracy', ascending=False).to_string(index=False))\n",
    "\n",
    "# Optimized models comparison\n",
    "opt_results = pd.DataFrame({\n",
    "    'Model': ['MLP', 'LSTM', 'Logistic Regression'],\n",
    "    'Accuracy': metrics['Accuracy'][1::2],\n",
    "    'F1 Score': metrics['F1 Score'][1::2],\n",
    "    'ROC AUC': metrics['ROC AUC'][1::2]\n",
    "})\n",
    "\n",
    "print(\"\\nOptimized Models Ranking:\")\n",
    "print(opt_results.sort_values('Accuracy', ascending=False).to_string(index=False))\n",
    "\n",
    "# Overall best model\n",
    "all_models = ['MLP (Orig)', 'MLP (Opt)', 'LSTM (Orig)', 'LSTM (Opt)', 'LogReg (Orig)', 'LogReg (Opt)']\n",
    "best_idx = np.argmax(metrics['Accuracy'])\n",
    "print(f\"\\nOverall Best Model: {all_models[best_idx]} with accuracy: {metrics['Accuracy'][best_idx]:.4f}\")"
   ]
  }
 ],
 "metadata": {
  "accelerator": "GPU",
  "colab": {
   "collapsed_sections": [
    "AM6QppbUc-wc",
    "KXEDLVEbPDxi",
    "fiMUVPZrHWbt",
    "W67m41mxHsHn",
    "eD_mcDP4M0nl",
    "e_0IRndcQcDc",
    "j4NI--z0QkLz",
    "GhN1VTofoxOO"
   ],
   "gpuType": "T4",
   "provenance": []
  },
  "kaggle": {
   "accelerator": "nvidiaTeslaT4",
   "dataSources": [
    {
     "datasetId": 1520310,
     "sourceId": 2510329,
     "sourceType": "datasetVersion"
    }
   ],
   "dockerImageVersionId": 31011,
   "isGpuEnabled": true,
   "isInternetEnabled": true,
   "language": "python",
   "sourceType": "notebook"
  },
  "kernelspec": {
   "display_name": "Python 3",
   "name": "python3"
  },
  "language_info": {
   "codemirror_mode": {
    "name": "ipython",
    "version": 3
   },
   "file_extension": ".py",
   "mimetype": "text/x-python",
   "name": "python",
   "nbconvert_exporter": "python",
   "pygments_lexer": "ipython3",
   "version": "3.11.11"
  },
  "papermill": {
   "default_parameters": {},
   "duration": 2473.717183,
   "end_time": "2025-05-04T21:35:29.105244",
   "environment_variables": {},
   "exception": null,
   "input_path": "__notebook__.ipynb",
   "output_path": "__notebook__.ipynb",
   "parameters": {},
   "start_time": "2025-05-04T20:54:15.388061",
   "version": "2.6.0"
  }
 },
 "nbformat": 4,
 "nbformat_minor": 5
}
